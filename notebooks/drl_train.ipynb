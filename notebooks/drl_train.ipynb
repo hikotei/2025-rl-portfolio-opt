{
 "cells": [
  {
   "cell_type": "code",
   "execution_count": 24,
   "metadata": {},
   "outputs": [
    {
     "name": "stdout",
     "output_type": "stream",
     "text": [
      "The autoreload extension is already loaded. To reload it, use:\n",
      "  %reload_ext autoreload\n"
     ]
    }
   ],
   "source": [
    "import os\n",
    "import json\n",
    "import pandas as pd\n",
    "\n",
    "from datetime import datetime\n",
    "from utils.config import DRLConfig\n",
    "from utils.drl_train import training_pipeline, slice_data\n",
    "\n",
    "%load_ext autoreload\n",
    "%autoreload 2"
   ]
  },
  {
   "cell_type": "code",
   "execution_count": 25,
   "metadata": {},
   "outputs": [],
   "source": [
    "df_ret = pd.read_parquet(\"../data/returns.parquet\")\n",
    "df_prices = pd.read_parquet(\"../data/prices.parquet\")\n",
    "df_vol = pd.read_parquet(\"../data/vola.parquet\")"
   ]
  },
  {
   "cell_type": "markdown",
   "metadata": {},
   "source": [
    "To view the logs:\n",
    "1. Open a terminal or command prompt.\n",
    "2. Navigate to the directory *containing* the `logs` directory (i.e., the root of this repository).\n",
    "3. Run the command: `tensorboard --logdir logs/`\n",
    "4. Open the URL provided by TensorBoard (usually http://localhost:6006/) in your web browser.\n",
    "\n",
    "You should see experiments named like `PPO_WindowX_AgentY_SeedZ`."
   ]
  },
  {
   "cell_type": "code",
   "execution_count": 26,
   "metadata": {},
   "outputs": [],
   "source": [
    "# Create timestamp for this run\n",
    "timestamp = datetime.now().strftime(\"%Y%m%d_%H%M%S\")\n",
    "\n",
    "# Create configuration\n",
    "config = DRLConfig(\n",
    "    # Window configuration\n",
    "    n_windows=1,  # 10 in paper\n",
    "    agents_per_window=5,  # 5 in paper\n",
    "    base_start_year=2006,\n",
    "    # Environment parameters\n",
    "    env_window_size=60,\n",
    "    transaction_cost=0.0,\n",
    "    initial_balance=100_000,\n",
    "    reward_scaling=1.0,\n",
    "    eta_dsr=1 / 252,\n",
    "    # Training parameters\n",
    "    n_envs=10,\n",
    "    total_timesteps_per_round=7_500_000,  # 7_500_000 in paper\n",
    "    n_steps_per_env=252 * 3,\n",
    "    batch_size=1260,\n",
    "    n_epochs=16,\n",
    "    gamma=0.9,\n",
    "    gae_lambda=0.9,\n",
    "    clip_range=0.25,\n",
    "    log_std_init=-1.0,\n",
    "    # Learning rate parameters\n",
    "    initial_lr=3e-4,\n",
    "    final_lr=1e-5,\n",
    "    # Paths\n",
    "    model_save_dir=f\"../models/{timestamp}\",\n",
    "    tensorboard_log_dir=f\"../logs/{timestamp}\",\n",
    ")"
   ]
  },
  {
   "cell_type": "code",
   "execution_count": 27,
   "metadata": {},
   "outputs": [
    {
     "name": "stdout",
     "output_type": "stream",
     "text": [
      "\n",
      "Configuration saved to: ../models/20250611_234904/config_20250611_234904.json\n"
     ]
    }
   ],
   "source": [
    "# Save config as JSON\n",
    "from dataclasses import asdict\n",
    "config_dict = asdict(config)\n",
    "config_json_path = os.path.join(config.model_save_dir, f\"config_{timestamp}.json\")\n",
    "os.makedirs(config.model_save_dir, exist_ok=True)\n",
    "with open(config_json_path, 'w') as f:\n",
    "    json.dump(config_dict, f, indent=4)\n",
    "print(f\"\\nConfiguration saved to: {config_json_path}\")"
   ]
  },
  {
   "cell_type": "code",
   "execution_count": 28,
   "metadata": {},
   "outputs": [
    {
     "name": "stdout",
     "output_type": "stream",
     "text": [
      "--- Starting Window 1/1 (Train Year Start: 2006) ---\n",
      "  Train Period: 2006-01-01 to 2010-12-31\n",
      "  Val Period  : 2011-01-01 to 2011-12-31\n",
      "  Test Period : 2012-01-01 to 2012-12-31\n",
      "  Training Agent 1/5 with seed 0...\n"
     ]
    },
    {
     "data": {
      "application/vnd.jupyter.widget-view+json": {
       "model_id": "a1b4b797118244af95216c3fabcf60c4",
       "version_major": 2,
       "version_minor": 0
      },
      "text/plain": [
       "Output()"
      ]
     },
     "metadata": {},
     "output_type": "display_data"
    },
    {
     "name": "stdout",
     "output_type": "stream",
     "text": [
      "    Starting training for 7500000 timesteps...\n"
     ]
    },
    {
     "data": {
      "text/html": [
       "<pre style=\"white-space:pre;overflow-x:auto;line-height:normal;font-family:Menlo,'DejaVu Sans Mono',consolas,'Courier New',monospace\"></pre>\n"
      ],
      "text/plain": []
     },
     "metadata": {},
     "output_type": "display_data"
    },
    {
     "name": "stdout",
     "output_type": "stream",
     "text": [
      "\n",
      "Training complete. Trained for 7500000 timesteps.\n",
      "TensorBoard logs for experiment 'PPO_Seed0' saved in directory: ../logs/20250611_234904\n",
      "    Evaluating agent on validation set...\n",
      "    Validation Mean Reward: -8.6959\n",
      "    Agent saved to: ../models/20250611_234904/agent_seed0_valrew-8.70.zip\n",
      "  Training Agent 2/5 with seed 1...\n"
     ]
    },
    {
     "data": {
      "application/vnd.jupyter.widget-view+json": {
       "model_id": "6cc20f27ebb040c2a39ec3026ede92d1",
       "version_major": 2,
       "version_minor": 0
      },
      "text/plain": [
       "Output()"
      ]
     },
     "metadata": {},
     "output_type": "display_data"
    },
    {
     "name": "stdout",
     "output_type": "stream",
     "text": [
      "    Starting training for 7500000 timesteps...\n"
     ]
    },
    {
     "data": {
      "text/html": [
       "<pre style=\"white-space:pre;overflow-x:auto;line-height:normal;font-family:Menlo,'DejaVu Sans Mono',consolas,'Courier New',monospace\"></pre>\n"
      ],
      "text/plain": []
     },
     "metadata": {},
     "output_type": "display_data"
    },
    {
     "name": "stdout",
     "output_type": "stream",
     "text": [
      "\n",
      "Training complete. Trained for 7500000 timesteps.\n",
      "TensorBoard logs for experiment 'PPO_Seed1' saved in directory: ../logs/20250611_234904\n",
      "    Evaluating agent on validation set...\n",
      "    Validation Mean Reward: -11.5004\n",
      "    Agent saved to: ../models/20250611_234904/agent_seed1_valrew-11.50.zip\n",
      "  Training Agent 3/5 with seed 2...\n"
     ]
    },
    {
     "data": {
      "application/vnd.jupyter.widget-view+json": {
       "model_id": "99d9d5dff2884252b77642b24e273aa8",
       "version_major": 2,
       "version_minor": 0
      },
      "text/plain": [
       "Output()"
      ]
     },
     "metadata": {},
     "output_type": "display_data"
    },
    {
     "name": "stdout",
     "output_type": "stream",
     "text": [
      "    Starting training for 7500000 timesteps...\n"
     ]
    },
    {
     "data": {
      "text/html": [
       "<pre style=\"white-space:pre;overflow-x:auto;line-height:normal;font-family:Menlo,'DejaVu Sans Mono',consolas,'Courier New',monospace\"></pre>\n"
      ],
      "text/plain": []
     },
     "metadata": {},
     "output_type": "display_data"
    },
    {
     "name": "stdout",
     "output_type": "stream",
     "text": [
      "\n",
      "Training complete. Trained for 7500000 timesteps.\n",
      "TensorBoard logs for experiment 'PPO_Seed2' saved in directory: ../logs/20250611_234904\n",
      "    Evaluating agent on validation set...\n",
      "    Validation Mean Reward: -11.7169\n",
      "    Agent saved to: ../models/20250611_234904/agent_seed2_valrew-11.72.zip\n",
      "  Training Agent 4/5 with seed 3...\n"
     ]
    },
    {
     "data": {
      "application/vnd.jupyter.widget-view+json": {
       "model_id": "9747c2e120574148a83421341331f73c",
       "version_major": 2,
       "version_minor": 0
      },
      "text/plain": [
       "Output()"
      ]
     },
     "metadata": {},
     "output_type": "display_data"
    },
    {
     "name": "stdout",
     "output_type": "stream",
     "text": [
      "    Starting training for 7500000 timesteps...\n"
     ]
    },
    {
     "data": {
      "text/html": [
       "<pre style=\"white-space:pre;overflow-x:auto;line-height:normal;font-family:Menlo,'DejaVu Sans Mono',consolas,'Courier New',monospace\"></pre>\n"
      ],
      "text/plain": []
     },
     "metadata": {},
     "output_type": "display_data"
    },
    {
     "name": "stdout",
     "output_type": "stream",
     "text": [
      "\n",
      "Training complete. Trained for 7500000 timesteps.\n",
      "TensorBoard logs for experiment 'PPO_Seed3' saved in directory: ../logs/20250611_234904\n",
      "    Evaluating agent on validation set...\n",
      "    Validation Mean Reward: -9.3217\n",
      "    Agent saved to: ../models/20250611_234904/agent_seed3_valrew-9.32.zip\n",
      "  Training Agent 5/5 with seed 4...\n"
     ]
    },
    {
     "data": {
      "application/vnd.jupyter.widget-view+json": {
       "model_id": "5980feb133d040df8599ec6b7b2ae95d",
       "version_major": 2,
       "version_minor": 0
      },
      "text/plain": [
       "Output()"
      ]
     },
     "metadata": {},
     "output_type": "display_data"
    },
    {
     "name": "stdout",
     "output_type": "stream",
     "text": [
      "    Starting training for 7500000 timesteps...\n"
     ]
    },
    {
     "data": {
      "text/html": [
       "<pre style=\"white-space:pre;overflow-x:auto;line-height:normal;font-family:Menlo,'DejaVu Sans Mono',consolas,'Courier New',monospace\"></pre>\n"
      ],
      "text/plain": []
     },
     "metadata": {},
     "output_type": "display_data"
    },
    {
     "name": "stdout",
     "output_type": "stream",
     "text": [
      "\n",
      "Training complete. Trained for 7500000 timesteps.\n",
      "TensorBoard logs for experiment 'PPO_Seed4' saved in directory: ../logs/20250611_234904\n",
      "    Evaluating agent on validation set...\n",
      "    Validation Mean Reward: -13.1212\n",
      "    Agent saved to: ../models/20250611_234904/agent_seed4_valrew-13.12.zip\n",
      "    Running backtest evaluation...\n"
     ]
    }
   ],
   "source": [
    "# Run training pipeline\n",
    "results, backtest_portfolio = training_pipeline(\n",
    "    drl_config=config, df_prices=df_prices, df_ret=df_ret, df_vol=df_vol\n",
    ")"
   ]
  },
  {
   "cell_type": "code",
   "execution_count": 29,
   "metadata": {},
   "outputs": [],
   "source": [
    "for idx, p in backtest_portfolio.items():\n",
    "    fname = f\"{idx}_portfolio.csv\"\n",
    "    p.get_history().to_csv(os.path.join(config.model_save_dir, fname))"
   ]
  },
  {
   "cell_type": "code",
   "execution_count": 30,
   "metadata": {},
   "outputs": [
    {
     "name": "stdout",
     "output_type": "stream",
     "text": [
      "\n",
      "Backtest results summary saved to: ../models/20250611_234904/backtest_results_summary_20250611_234904.csv\n",
      "\n",
      "Final Results DataFrame:\n"
     ]
    },
    {
     "data": {
      "text/html": [
       "<div>\n",
       "<style scoped>\n",
       "    .dataframe tbody tr th:only-of-type {\n",
       "        vertical-align: middle;\n",
       "    }\n",
       "\n",
       "    .dataframe tbody tr th {\n",
       "        vertical-align: top;\n",
       "    }\n",
       "\n",
       "    .dataframe thead th {\n",
       "        text-align: right;\n",
       "    }\n",
       "</style>\n",
       "<table border=\"1\" class=\"dataframe\">\n",
       "  <thead>\n",
       "    <tr style=\"text-align: right;\">\n",
       "      <th></th>\n",
       "      <th>window</th>\n",
       "      <th>best_agent_path</th>\n",
       "      <th>n_eval_episodes</th>\n",
       "      <th>mean_reward</th>\n",
       "      <th>std_reward</th>\n",
       "      <th>Annual return</th>\n",
       "      <th>Cumulative returns</th>\n",
       "      <th>Annual volatility</th>\n",
       "      <th>Sharpe ratio</th>\n",
       "      <th>Calmar ratio</th>\n",
       "      <th>Stability</th>\n",
       "      <th>Max drawdown</th>\n",
       "      <th>Omega ratio</th>\n",
       "      <th>Sortino ratio</th>\n",
       "      <th>Skew</th>\n",
       "      <th>Kurtosis</th>\n",
       "      <th>Tail ratio</th>\n",
       "      <th>Daily value at risk (95%)</th>\n",
       "      <th>Portfolio turnover (in %)</th>\n",
       "      <th>final_portfolio_value_first_episode</th>\n",
       "    </tr>\n",
       "  </thead>\n",
       "  <tbody>\n",
       "    <tr>\n",
       "      <th>0</th>\n",
       "      <td>1</td>\n",
       "      <td>agent_seed0_valrew-8</td>\n",
       "      <td>1</td>\n",
       "      <td>-23.997776</td>\n",
       "      <td>0.0</td>\n",
       "      <td>0.076154</td>\n",
       "      <td>0.074901</td>\n",
       "      <td>0.100707</td>\n",
       "      <td>0.779247</td>\n",
       "      <td>1.011211</td>\n",
       "      <td>0.908507</td>\n",
       "      <td>-0.07531</td>\n",
       "      <td>1.139255</td>\n",
       "      <td>1.188347</td>\n",
       "      <td>-0.06417</td>\n",
       "      <td>0.705649</td>\n",
       "      <td>1.118682</td>\n",
       "      <td>-0.010244</td>\n",
       "      <td>42.38304</td>\n",
       "      <td>107490</td>\n",
       "    </tr>\n",
       "  </tbody>\n",
       "</table>\n",
       "</div>"
      ],
      "text/plain": [
       "   window       best_agent_path  n_eval_episodes  mean_reward  std_reward  \\\n",
       "0       1  agent_seed0_valrew-8                1   -23.997776         0.0   \n",
       "\n",
       "   Annual return  Cumulative returns  Annual volatility  Sharpe ratio  \\\n",
       "0       0.076154            0.074901           0.100707      0.779247   \n",
       "\n",
       "   Calmar ratio  Stability  Max drawdown  Omega ratio  Sortino ratio     Skew  \\\n",
       "0      1.011211   0.908507      -0.07531     1.139255       1.188347 -0.06417   \n",
       "\n",
       "   Kurtosis  Tail ratio  Daily value at risk (95%)  Portfolio turnover (in %)  \\\n",
       "0  0.705649    1.118682                  -0.010244                   42.38304   \n",
       "\n",
       "   final_portfolio_value_first_episode  \n",
       "0                               107490  "
      ]
     },
     "execution_count": 30,
     "metadata": {},
     "output_type": "execute_result"
    }
   ],
   "source": [
    "results_filename = f\"backtest_results_summary_{timestamp}.csv\"\n",
    "results_save_path = os.path.join(config.model_save_dir, results_filename)\n",
    "\n",
    "results_df = pd.DataFrame(results)\n",
    "results_df.to_csv(results_save_path, index=False)\n",
    "print(f\"\\nBacktest results summary saved to: {results_save_path}\")\n",
    "print(\"\\nFinal Results DataFrame:\")\n",
    "results_df.head()"
   ]
  }
 ],
 "metadata": {
  "kernelspec": {
   "display_name": "rl",
   "language": "python",
   "name": "python3"
  },
  "language_info": {
   "codemirror_mode": {
    "name": "ipython",
    "version": 3
   },
   "file_extension": ".py",
   "mimetype": "text/x-python",
   "name": "python",
   "nbconvert_exporter": "python",
   "pygments_lexer": "ipython3",
   "version": "3.11.0"
  }
 },
 "nbformat": 4,
 "nbformat_minor": 2
}
