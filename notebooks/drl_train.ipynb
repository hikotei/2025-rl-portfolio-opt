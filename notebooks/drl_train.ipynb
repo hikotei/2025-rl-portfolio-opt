{
 "cells": [
  {
   "cell_type": "code",
   "execution_count": 10,
   "metadata": {},
   "outputs": [
    {
     "name": "stdout",
     "output_type": "stream",
     "text": [
      "The autoreload extension is already loaded. To reload it, use:\n",
      "  %reload_ext autoreload\n"
     ]
    }
   ],
   "source": [
    "import os\n",
    "import json\n",
    "import pandas as pd\n",
    "\n",
    "from datetime import datetime\n",
    "from utils.config import DRLConfig\n",
    "from utils.drl_train import training_pipeline\n",
    "\n",
    "%load_ext autoreload\n",
    "%autoreload 2"
   ]
  },
  {
   "cell_type": "code",
   "execution_count": 11,
   "metadata": {},
   "outputs": [],
   "source": [
    "DATA_DIR = \"../data/snp_new\"\n",
    "RETURNS_PATH = os.path.join(DATA_DIR, \"returns_1d.parquet\")\n",
    "PRICES_PATH = os.path.join(DATA_DIR, \"prices_1d.parquet\")\n",
    "VOLA_PATH = os.path.join(DATA_DIR, \"vola_1d.parquet\")\n",
    "\n",
    "df_ret = pd.read_parquet(RETURNS_PATH)\n",
    "df_prices = pd.read_parquet(PRICES_PATH)\n",
    "df_vol = pd.read_parquet(VOLA_PATH)"
   ]
  },
  {
   "cell_type": "code",
   "execution_count": 12,
   "metadata": {},
   "outputs": [],
   "source": [
    "# To view the logs:\n",
    "# 1. Open a terminal or command prompt.\n",
    "# 2. Navigate to the directory *containing* the `logs` directory (i.e., the root of this repository).\n",
    "# 3. Run the command: `tensorboard --logdir logs/`\n",
    "# 4. Open the URL provided by TensorBoard (usually http://localhost:6006/) in your web browser.\n",
    "\n",
    "# Create timestamp for this run\n",
    "timestamp = datetime.now().strftime(\"%Y%m%d_%H%M%S\")\n",
    "\n",
    "# Create configuration\n",
    "config = DRLConfig(\n",
    "    # Window configuration\n",
    "    n_windows=2,  # 10 in paper\n",
    "    agents_per_window=2,  # 5 in paper\n",
    "    base_start_year=2006,\n",
    "    use_previous_best_seed=False,\n",
    "\n",
    "    # Environment parameters\n",
    "    env_window_size=60,\n",
    "    transaction_cost=0.0,\n",
    "    initial_balance=100_000,\n",
    "    reward_scaling=1.0,\n",
    "    eta_dsr=1 / 252,\n",
    "\n",
    "    # Training parameters\n",
    "    n_envs=10,\n",
    "    total_timesteps_per_round=7_500_000,  # 7_500_000 in paper\n",
    "    n_steps_per_env=252 * 3,\n",
    "    batch_size=1260,\n",
    "    n_epochs=16,\n",
    "    gamma=0.9,\n",
    "    gae_lambda=0.9,\n",
    "    clip_range=0.25,\n",
    "    log_std_init=-1.0,\n",
    "\n",
    "    # Learning rate parameters\n",
    "    initial_lr=3e-4,\n",
    "    final_lr=1e-5,\n",
    "    \n",
    "    # Paths\n",
    "    model_save_dir=f\"../models/{timestamp}\",\n",
    "    tensorboard_log_dir=f\"../logs/{timestamp}\",\n",
    ")"
   ]
  },
  {
   "cell_type": "code",
   "execution_count": 13,
   "metadata": {},
   "outputs": [
    {
     "name": "stdout",
     "output_type": "stream",
     "text": [
      "\n",
      "Configuration saved to: ../models/20250629_183415/config_20250629_183415.json\n"
     ]
    }
   ],
   "source": [
    "# Save config as JSON\n",
    "from dataclasses import asdict\n",
    "config_dict = asdict(config)\n",
    "config_json_path = os.path.join(config.model_save_dir, f\"config_{timestamp}.json\")\n",
    "os.makedirs(config.model_save_dir, exist_ok=True)\n",
    "with open(config_json_path, 'w') as f:\n",
    "    json.dump(config_dict, f, indent=4)\n",
    "print(f\"\\nConfiguration saved to: {config_json_path}\")"
   ]
  },
  {
   "cell_type": "code",
   "execution_count": 14,
   "metadata": {},
   "outputs": [
    {
     "name": "stdout",
     "output_type": "stream",
     "text": [
      "--- Starting Window 1/2 (Train Year Start: 2006) ---\n",
      "  Train Period: 2006-01-01 to 2010-12-31\n",
      "  Val Period  : 2011-01-01 to 2011-12-31\n",
      "  Test Period : 2012-01-01 to 2012-12-31\n",
      "  Starting with fresh random initialization\n",
      "  Training Agent 1/2 with seed 0...\n"
     ]
    },
    {
     "data": {
      "application/vnd.jupyter.widget-view+json": {
       "model_id": "07a5af78cc4f489c8fa02817a2490b1a",
       "version_major": 2,
       "version_minor": 0
      },
      "text/plain": [
       "Output()"
      ]
     },
     "metadata": {},
     "output_type": "display_data"
    },
    {
     "name": "stdout",
     "output_type": "stream",
     "text": [
      "    Starting training for 7500000 timesteps...\n"
     ]
    },
    {
     "data": {
      "text/html": [
       "<pre style=\"white-space:pre;overflow-x:auto;line-height:normal;font-family:Menlo,'DejaVu Sans Mono',consolas,'Courier New',monospace\"></pre>\n"
      ],
      "text/plain": []
     },
     "metadata": {},
     "output_type": "display_data"
    },
    {
     "name": "stdout",
     "output_type": "stream",
     "text": [
      "\n",
      "Training complete. Trained for 7500000 timesteps.\n",
      "TensorBoard logs for experiment 'PPO_Seed0' saved in directory: ../logs/20250629_183415\n",
      "    Evaluating agent on validation set...\n",
      "    Validation Mean Reward: -10.1788\n",
      "    Agent saved to: ../models/20250629_183415/agent_seed0_valrew-10.18.zip\n",
      "  Training Agent 2/2 with seed 1...\n"
     ]
    },
    {
     "data": {
      "application/vnd.jupyter.widget-view+json": {
       "model_id": "00f9fa7a751e4848b0284104bac7242e",
       "version_major": 2,
       "version_minor": 0
      },
      "text/plain": [
       "Output()"
      ]
     },
     "metadata": {},
     "output_type": "display_data"
    },
    {
     "name": "stdout",
     "output_type": "stream",
     "text": [
      "    Starting training for 7500000 timesteps...\n"
     ]
    },
    {
     "data": {
      "text/html": [
       "<pre style=\"white-space:pre;overflow-x:auto;line-height:normal;font-family:Menlo,'DejaVu Sans Mono',consolas,'Courier New',monospace\"></pre>\n"
      ],
      "text/plain": []
     },
     "metadata": {},
     "output_type": "display_data"
    },
    {
     "name": "stdout",
     "output_type": "stream",
     "text": [
      "\n",
      "Training complete. Trained for 7500000 timesteps.\n",
      "TensorBoard logs for experiment 'PPO_Seed1' saved in directory: ../logs/20250629_183415\n",
      "    Evaluating agent on validation set...\n",
      "    Validation Mean Reward: -9.6778\n",
      "    Agent saved to: ../models/20250629_183415/agent_seed1_valrew-9.68.zip\n",
      "    Running backtest evaluation...\n",
      "--- Starting Window 2/2 (Train Year Start: 2007) ---\n",
      "  Train Period: 2007-01-01 to 2011-12-31\n",
      "  Val Period  : 2012-01-01 to 2012-12-31\n",
      "  Test Period : 2013-01-01 to 2013-12-31\n",
      "  Starting with fresh random initialization\n",
      "  Training Agent 1/2 with seed 2...\n"
     ]
    },
    {
     "data": {
      "application/vnd.jupyter.widget-view+json": {
       "model_id": "3009080021c54dec98edd8fb136279c7",
       "version_major": 2,
       "version_minor": 0
      },
      "text/plain": [
       "Output()"
      ]
     },
     "metadata": {},
     "output_type": "display_data"
    },
    {
     "name": "stdout",
     "output_type": "stream",
     "text": [
      "    Starting training for 7500000 timesteps...\n"
     ]
    },
    {
     "data": {
      "text/html": [
       "<pre style=\"white-space:pre;overflow-x:auto;line-height:normal;font-family:Menlo,'DejaVu Sans Mono',consolas,'Courier New',monospace\"></pre>\n"
      ],
      "text/plain": []
     },
     "metadata": {},
     "output_type": "display_data"
    },
    {
     "name": "stdout",
     "output_type": "stream",
     "text": [
      "\n",
      "Training complete. Trained for 7500000 timesteps.\n",
      "TensorBoard logs for experiment 'PPO_Seed2' saved in directory: ../logs/20250629_183415\n",
      "    Evaluating agent on validation set...\n",
      "    Validation Mean Reward: -24.9470\n",
      "    Agent saved to: ../models/20250629_183415/agent_seed2_valrew-24.95.zip\n",
      "  Training Agent 2/2 with seed 3...\n"
     ]
    },
    {
     "data": {
      "application/vnd.jupyter.widget-view+json": {
       "model_id": "d3c118e37ac54ef8a8fef21ef637a5d7",
       "version_major": 2,
       "version_minor": 0
      },
      "text/plain": [
       "Output()"
      ]
     },
     "metadata": {},
     "output_type": "display_data"
    },
    {
     "name": "stdout",
     "output_type": "stream",
     "text": [
      "    Starting training for 7500000 timesteps...\n"
     ]
    },
    {
     "data": {
      "text/html": [
       "<pre style=\"white-space:pre;overflow-x:auto;line-height:normal;font-family:Menlo,'DejaVu Sans Mono',consolas,'Courier New',monospace\"></pre>\n"
      ],
      "text/plain": []
     },
     "metadata": {},
     "output_type": "display_data"
    },
    {
     "name": "stdout",
     "output_type": "stream",
     "text": [
      "\n",
      "Training complete. Trained for 7500000 timesteps.\n",
      "TensorBoard logs for experiment 'PPO_Seed3' saved in directory: ../logs/20250629_183415\n",
      "    Evaluating agent on validation set...\n",
      "    Validation Mean Reward: -23.0979\n",
      "    Agent saved to: ../models/20250629_183415/agent_seed3_valrew-23.10.zip\n",
      "    Running backtest evaluation...\n"
     ]
    }
   ],
   "source": [
    "# Run training pipeline\n",
    "results, backtest_portfolio = training_pipeline(\n",
    "    drl_config=config, df_prices=df_prices, df_ret=df_ret, df_vol=df_vol\n",
    ")"
   ]
  },
  {
   "cell_type": "code",
   "execution_count": 17,
   "metadata": {},
   "outputs": [],
   "source": [
    "for idx, p in backtest_portfolio.items():\n",
    "    fname = f\"{idx}_portfolio.csv\"\n",
    "    p.get_history().to_csv(os.path.join(config.model_save_dir, fname))"
   ]
  },
  {
   "cell_type": "code",
   "execution_count": 18,
   "metadata": {},
   "outputs": [
    {
     "name": "stdout",
     "output_type": "stream",
     "text": [
      "\n",
      "Backtest results summary saved to: ../models/20250629_183415/backtest_results_summary_20250629_183415.csv\n",
      "\n",
      "Final Results DataFrame:\n"
     ]
    },
    {
     "data": {
      "text/html": [
       "<div>\n",
       "<style scoped>\n",
       "    .dataframe tbody tr th:only-of-type {\n",
       "        vertical-align: middle;\n",
       "    }\n",
       "\n",
       "    .dataframe tbody tr th {\n",
       "        vertical-align: top;\n",
       "    }\n",
       "\n",
       "    .dataframe thead th {\n",
       "        text-align: right;\n",
       "    }\n",
       "</style>\n",
       "<table border=\"1\" class=\"dataframe\">\n",
       "  <thead>\n",
       "    <tr style=\"text-align: right;\">\n",
       "      <th></th>\n",
       "      <th>window</th>\n",
       "      <th>best_agent_path</th>\n",
       "      <th>n_eval_episodes</th>\n",
       "      <th>mean_reward</th>\n",
       "      <th>std_reward</th>\n",
       "      <th>Annual return</th>\n",
       "      <th>Cumulative returns</th>\n",
       "      <th>Annual volatility</th>\n",
       "      <th>Sharpe ratio</th>\n",
       "      <th>Calmar ratio</th>\n",
       "      <th>Stability</th>\n",
       "      <th>Max drawdown</th>\n",
       "      <th>Omega ratio</th>\n",
       "      <th>Sortino ratio</th>\n",
       "      <th>Skew</th>\n",
       "      <th>Kurtosis</th>\n",
       "      <th>Tail ratio</th>\n",
       "      <th>Daily value at risk (95%)</th>\n",
       "      <th>Portfolio turnover (in %)</th>\n",
       "      <th>final_portfolio_value_first_episode</th>\n",
       "    </tr>\n",
       "  </thead>\n",
       "  <tbody>\n",
       "    <tr>\n",
       "      <th>0</th>\n",
       "      <td>1</td>\n",
       "      <td>agent_seed1_valrew-9</td>\n",
       "      <td>1</td>\n",
       "      <td>-20.386796</td>\n",
       "      <td>0.0</td>\n",
       "      <td>0.087672</td>\n",
       "      <td>0.086222</td>\n",
       "      <td>0.100542</td>\n",
       "      <td>0.886285</td>\n",
       "      <td>1.233339</td>\n",
       "      <td>0.908643</td>\n",
       "      <td>-0.071085</td>\n",
       "      <td>1.160334</td>\n",
       "      <td>1.34381</td>\n",
       "      <td>-0.105075</td>\n",
       "      <td>0.645236</td>\n",
       "      <td>1.150395</td>\n",
       "      <td>-0.009774</td>\n",
       "      <td>43.623225</td>\n",
       "      <td>108622</td>\n",
       "    </tr>\n",
       "    <tr>\n",
       "      <th>1</th>\n",
       "      <td>2</td>\n",
       "      <td>agent_seed3_valrew-23</td>\n",
       "      <td>1</td>\n",
       "      <td>5.568448</td>\n",
       "      <td>0.0</td>\n",
       "      <td>0.217487</td>\n",
       "      <td>0.215587</td>\n",
       "      <td>0.086533</td>\n",
       "      <td>2.318357</td>\n",
       "      <td>5.084843</td>\n",
       "      <td>0.920359</td>\n",
       "      <td>-0.042772</td>\n",
       "      <td>1.451697</td>\n",
       "      <td>3.26902</td>\n",
       "      <td>-0.507074</td>\n",
       "      <td>0.837528</td>\n",
       "      <td>0.833654</td>\n",
       "      <td>-0.009975</td>\n",
       "      <td>42.000596</td>\n",
       "      <td>121559</td>\n",
       "    </tr>\n",
       "  </tbody>\n",
       "</table>\n",
       "</div>"
      ],
      "text/plain": [
       "   window        best_agent_path  n_eval_episodes  mean_reward  std_reward  \\\n",
       "0       1   agent_seed1_valrew-9                1   -20.386796         0.0   \n",
       "1       2  agent_seed3_valrew-23                1     5.568448         0.0   \n",
       "\n",
       "   Annual return  Cumulative returns  Annual volatility  Sharpe ratio  \\\n",
       "0       0.087672            0.086222           0.100542      0.886285   \n",
       "1       0.217487            0.215587           0.086533      2.318357   \n",
       "\n",
       "   Calmar ratio  Stability  Max drawdown  Omega ratio  Sortino ratio  \\\n",
       "0      1.233339   0.908643     -0.071085     1.160334        1.34381   \n",
       "1      5.084843   0.920359     -0.042772     1.451697        3.26902   \n",
       "\n",
       "       Skew  Kurtosis  Tail ratio  Daily value at risk (95%)  \\\n",
       "0 -0.105075  0.645236    1.150395                  -0.009774   \n",
       "1 -0.507074  0.837528    0.833654                  -0.009975   \n",
       "\n",
       "   Portfolio turnover (in %)  final_portfolio_value_first_episode  \n",
       "0                  43.623225                               108622  \n",
       "1                  42.000596                               121559  "
      ]
     },
     "execution_count": 18,
     "metadata": {},
     "output_type": "execute_result"
    }
   ],
   "source": [
    "results_filename = f\"backtest_results_summary_{timestamp}.csv\"\n",
    "results_save_path = os.path.join(config.model_save_dir, results_filename)\n",
    "\n",
    "results_df = pd.DataFrame(results)\n",
    "results_df.to_csv(results_save_path, index=False)\n",
    "print(f\"\\nBacktest results summary saved to: {results_save_path}\")\n",
    "print(\"\\nFinal Results DataFrame:\")\n",
    "results_df.head()"
   ]
  }
 ],
 "metadata": {
  "kernelspec": {
   "display_name": "rl",
   "language": "python",
   "name": "python3"
  },
  "language_info": {
   "codemirror_mode": {
    "name": "ipython",
    "version": 3
   },
   "file_extension": ".py",
   "mimetype": "text/x-python",
   "name": "python",
   "nbconvert_exporter": "python",
   "pygments_lexer": "ipython3",
   "version": "3.11.0"
  }
 },
 "nbformat": 4,
 "nbformat_minor": 2
}
