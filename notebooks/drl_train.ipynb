{
 "cells": [
  {
   "cell_type": "code",
   "execution_count": 11,
   "metadata": {},
   "outputs": [
    {
     "name": "stdout",
     "output_type": "stream",
     "text": [
      "The autoreload extension is already loaded. To reload it, use:\n",
      "  %reload_ext autoreload\n"
     ]
    }
   ],
   "source": [
    "import pandas as pd\n",
    "from utils.portfolio_env_old import PortfolioEnv\n",
    "from utils.drl_agent import DRLAgent\n",
    "\n",
    "%load_ext autoreload\n",
    "%autoreload 2"
   ]
  },
  {
   "cell_type": "code",
   "execution_count": 12,
   "metadata": {},
   "outputs": [],
   "source": [
    "# --- Load data (replace with actual paths) ---\n",
    "returns_df = pd.read_parquet(\"../data/returns.parquet\")\n",
    "prices_df = pd.read_parquet(\"../data/prices.parquet\")\n",
    "vol_df = pd.read_parquet(\"../data/vola.parquet\")"
   ]
  },
  {
   "cell_type": "code",
   "execution_count": 13,
   "metadata": {},
   "outputs": [],
   "source": [
    "# subset data to just one year 2020 - 2021\n",
    "train_start = \"2006-01-01\"\n",
    "train_end = \"2006-06-01\"\n",
    "\n",
    "train_ret = returns_df[train_start:train_end]\n",
    "train_prices = prices_df[train_start:train_end]\n",
    "train_vol = vol_df[train_start:train_end]"
   ]
  },
  {
   "cell_type": "code",
   "execution_count": 14,
   "metadata": {},
   "outputs": [],
   "source": [
    "# --- Create environment ---\n",
    "env = PortfolioEnv(\n",
    "    returns_df=train_ret,\n",
    "    prices_df=train_prices,\n",
    "    vol_df=train_vol,\n",
    "    window_size=60,\n",
    "    transaction_cost=0,\n",
    "    initial_balance=100_000,\n",
    "    reward_scaling=1.0,\n",
    "    eta=1 / 252,\n",
    ")"
   ]
  },
  {
   "cell_type": "code",
   "execution_count": 15,
   "metadata": {},
   "outputs": [],
   "source": [
    "# = = = = = = = = \n",
    "# CHECK ENVIRONMENT\n",
    "# = = = = = = = = \n",
    "\n",
    "# from stable_baselines3.common.env_checker import check_env\n",
    "# check_env(env)\n",
    "\n",
    "# UserWarning: Your observation  has an unconventional shape (neither an image, nor a 1D vector). \n",
    "# We recommend you to flatten the observation to have only a 1D vector or use a custom policy to properly process the data.\n",
    "\n",
    "# UserWarning: We recommend you to use a symmetric and normalized Box action space (range=[-1, 1]) \n",
    "# cf. https://stable-baselines3.readthedocs.io/en/master/guide/rl_tips.html\n",
    "\n",
    "# = = = = = = = = \n",
    "# RANDOM AGENT\n",
    "# = = = = = = = = \n",
    "\n",
    "# obs, info = env.reset()\n",
    "# n_steps = 10\n",
    "# for _ in range(n_steps):\n",
    "#     action = env.action_space.sample() # random action\n",
    "#     obs, reward, terminated, truncated, info = env.step(action)\n",
    "#     print(info)\n",
    "#     if terminated:\n",
    "#         obs, info = env.reset()"
   ]
  },
  {
   "cell_type": "code",
   "execution_count": 19,
   "metadata": {},
   "outputs": [
    {
     "data": {
      "application/vnd.jupyter.widget-view+json": {
       "model_id": "17e2b079a1b74d8a8ae32fb8d81fa6f9",
       "version_major": 2,
       "version_minor": 0
      },
      "text/plain": [
       "Output()"
      ]
     },
     "metadata": {},
     "output_type": "display_data"
    },
    {
     "data": {
      "text/html": [
       "<pre style=\"white-space:pre;overflow-x:auto;line-height:normal;font-family:Menlo,'DejaVu Sans Mono',consolas,'Courier New',monospace\"></pre>\n"
      ],
      "text/plain": []
     },
     "metadata": {},
     "output_type": "display_data"
    },
    {
     "name": "stdout",
     "output_type": "stream",
     "text": [
      "Error setting weight for XLRE: 'numpy.float32' object does not support item assignment\n",
      "Action: 0.0456249974668026\n",
      "Weights 1.0 <class 'numpy.float32'>\n",
      "Error setting weight for XLC: 'numpy.float32' object does not support item assignment\n",
      "Action: 0.0456249974668026\n",
      "Weights 1.0 <class 'numpy.float32'>\n",
      "Error setting weight for XLRE: 'numpy.float32' object does not support item assignment\n",
      "Action: 0.0\n",
      "Weights 1.0 <class 'numpy.float32'>\n",
      "Error setting weight for XLC: 'numpy.float32' object does not support item assignment\n",
      "Action: 0.0\n",
      "Weights 1.0 <class 'numpy.float32'>\n",
      "Error setting weight for XLRE: 'numpy.float32' object does not support item assignment\n",
      "Action: 0.0\n",
      "Weights 1.0 <class 'numpy.float32'>\n",
      "Error setting weight for XLC: 'numpy.float32' object does not support item assignment\n",
      "Action: 0.0\n",
      "Weights 1.0 <class 'numpy.float32'>\n",
      "Error setting weight for XLRE: 'numpy.float32' object does not support item assignment\n",
      "Action: 0.0\n",
      "Weights 1.0 <class 'numpy.float32'>\n",
      "Error setting weight for XLC: 'numpy.float32' object does not support item assignment\n",
      "Action: 0.0\n",
      "Weights 1.0 <class 'numpy.float32'>\n",
      "Error setting weight for XLRE: 'numpy.float32' object does not support item assignment\n",
      "Action: 0.03516892343759537\n",
      "Weights 1.0 <class 'numpy.float32'>\n",
      "Error setting weight for XLC: 'numpy.float32' object does not support item assignment\n",
      "Action: 0.03516892343759537\n",
      "Weights 1.0 <class 'numpy.float32'>\n",
      "Error setting weight for XLRE: 'numpy.float32' object does not support item assignment\n",
      "Action: 0.0\n",
      "Weights 1.0 <class 'numpy.float32'>\n",
      "Error setting weight for XLC: 'numpy.float32' object does not support item assignment\n",
      "Action: 0.0\n",
      "Weights 1.0 <class 'numpy.float32'>\n",
      "Error setting weight for XLRE: 'numpy.float32' object does not support item assignment\n",
      "Action: 0.0\n",
      "Weights 1.0 <class 'numpy.float32'>\n",
      "Error setting weight for XLC: 'numpy.float32' object does not support item assignment\n",
      "Action: 0.0\n",
      "Weights 1.0 <class 'numpy.float32'>\n",
      "Error setting weight for XLRE: 'numpy.float32' object does not support item assignment\n",
      "Action: 0.020157473161816597\n",
      "Weights 1.0 <class 'numpy.float32'>\n",
      "Error setting weight for XLC: 'numpy.float32' object does not support item assignment\n",
      "Action: 0.020157473161816597\n",
      "Weights 1.0 <class 'numpy.float32'>\n",
      "Error setting weight for XLRE: 'numpy.float32' object does not support item assignment\n",
      "Action: 0.024186890572309494\n",
      "Weights 1.0 <class 'numpy.float32'>\n",
      "Error setting weight for XLC: 'numpy.float32' object does not support item assignment\n",
      "Action: 0.024186890572309494\n",
      "Weights 1.0 <class 'numpy.float32'>\n",
      "Error setting weight for XLRE: 'numpy.float32' object does not support item assignment\n",
      "Action: 0.0\n",
      "Weights 1.0 <class 'numpy.float32'>\n",
      "Error setting weight for XLC: 'numpy.float32' object does not support item assignment\n",
      "Action: 0.0\n",
      "Weights 1.0 <class 'numpy.float32'>\n",
      "\n",
      "Training Summary:\n",
      "Final Portfolio Value (First Env): $94,423.12\n",
      "Average Final Portfolio Value (All Envs): $95,579.41\n",
      "Std Final Portfolio Value (All Envs): $1,181.90\n",
      "\n",
      "Performance Metrics (First Env):\n",
      "Annual return: -0.0404\n",
      "Cumulative returns: -0.0069\n",
      "Annual volatility: 0.0951\n",
      "Sharpe ratio: -0.6072\n",
      "Calmar ratio: -0.9199\n",
      "Stability: 0.9132\n",
      "Max drawdown: -0.0439\n",
      "Omega ratio: 0.8993\n",
      "Sortino ratio: -0.8374\n",
      "Skew: -0.1724\n",
      "Kurtosis: 0.6870\n",
      "Tail ratio: 0.8222\n",
      "Daily value at risk: -0.0112\n",
      "Portfolio turnover: 0.0043\n"
     ]
    }
   ],
   "source": [
    "agent = DRLAgent(\n",
    "    env,\n",
    "    model_name='ppo',\n",
    "    n_envs=10,\n",
    "    n_steps=756,\n",
    "    batch_size=1260,\n",
    "    n_epochs=16,\n",
    "    learning_rate=3e-4, # anneal to 1e-5\n",
    "    gamma=0.9,\n",
    "    gae_lambda=0.9,\n",
    "    clip_range=0.25\n",
    ")\n",
    "\n",
    "agent.train(total_timesteps=100)\n",
    "agent.save(\"../models/ppo_portfolio.zip\")"
   ]
  },
  {
   "cell_type": "code",
   "execution_count": 17,
   "metadata": {},
   "outputs": [],
   "source": [
    "# subset data to just one year 2020 - 2021\n",
    "eval_start = \"2021-01-01\"\n",
    "eval_end = \"2021-06-01\"\n",
    "\n",
    "eval_ret = returns_df[eval_start:eval_end]\n",
    "eval_prices = prices_df[eval_start:eval_end]\n",
    "eval_vol = vol_df[eval_start:eval_end]"
   ]
  },
  {
   "cell_type": "code",
   "execution_count": 18,
   "metadata": {},
   "outputs": [
    {
     "name": "stdout",
     "output_type": "stream",
     "text": [
      "Evaluating DRL agent...\n",
      "\n",
      "Evaluation Summary:\n",
      "Final Portfolio Value: $106,403.03\n",
      "Average Reward: -5.8691\n",
      "\n",
      "Performance Metrics:\n",
      "Annual return: 0.4460\n",
      "Cumulative returns: 0.0634\n",
      "Annual volatility: 0.1064\n",
      "Sharpe ratio: 3.4185\n",
      "Calmar ratio: 13.4232\n",
      "Stability: 0.9038\n",
      "Max drawdown: -0.0332\n",
      "Omega ratio: 1.7310\n",
      "Sortino ratio: 5.0168\n",
      "Skew: -0.6625\n",
      "Kurtosis: 0.7523\n",
      "Tail ratio: 1.0621\n",
      "Daily value at risk: -0.0090\n",
      "Portfolio turnover: 0.0054\n",
      "Average Reward: -5.8691\n"
     ]
    }
   ],
   "source": [
    "# --- Evaluate DRL agent ---\n",
    "# Create evaluation environment\n",
    "eval_env = PortfolioEnv(\n",
    "    returns_df=eval_ret,\n",
    "    prices_df=eval_prices,\n",
    "    vol_df=eval_vol,\n",
    "    window_size=60,\n",
    "    transaction_cost=0,\n",
    "    initial_balance=100_000,\n",
    "    reward_scaling=1.0,\n",
    "    eta=1 / 252,\n",
    ")\n",
    "\n",
    "# Evaluate DRL agent\n",
    "print(\"Evaluating DRL agent...\")\n",
    "drl_metrics = agent.evaluate(eval_env, n_episodes=1)"
   ]
  }
 ],
 "metadata": {
  "kernelspec": {
   "display_name": "rl",
   "language": "python",
   "name": "python3"
  },
  "language_info": {
   "codemirror_mode": {
    "name": "ipython",
    "version": 3
   },
   "file_extension": ".py",
   "mimetype": "text/x-python",
   "name": "python",
   "nbconvert_exporter": "python",
   "pygments_lexer": "ipython3",
   "version": "3.11.0"
  }
 },
 "nbformat": 4,
 "nbformat_minor": 2
}
