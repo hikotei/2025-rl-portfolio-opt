{
 "cells": [
  {
   "cell_type": "code",
   "execution_count": 7,
   "metadata": {},
   "outputs": [
    {
     "name": "stdout",
     "output_type": "stream",
     "text": [
      "The autoreload extension is already loaded. To reload it, use:\n",
      "  %reload_ext autoreload\n"
     ]
    }
   ],
   "source": [
    "import os\n",
    "import json\n",
    "import pandas as pd\n",
    "\n",
    "from datetime import datetime\n",
    "from utils.config import DRLConfig\n",
    "from utils.drl_train import training_pipeline\n",
    "\n",
    "%load_ext autoreload\n",
    "%autoreload 2"
   ]
  },
  {
   "cell_type": "code",
   "execution_count": 8,
   "metadata": {},
   "outputs": [],
   "source": [
    "DATA_DIR = \"../data/snp_new\"\n",
    "RETURNS_PATH = os.path.join(DATA_DIR, \"returns_1d.parquet\")\n",
    "PRICES_PATH = os.path.join(DATA_DIR, \"prices_1d.parquet\")\n",
    "VOLA_PATH = os.path.join(DATA_DIR, \"vola_1d.parquet\")\n",
    "\n",
    "# DATA_DIR = \"../data/intl\"\n",
    "# RETURNS_PATH = os.path.join(DATA_DIR, \"returns_1d.parquet\")\n",
    "# PRICES_PATH = os.path.join(DATA_DIR, \"prices_1d.parquet\")\n",
    "# VOLA_PATH = os.path.join(DATA_DIR, \"vola_1d.parquet\")\n",
    "\n",
    "df_ret = pd.read_parquet(RETURNS_PATH)\n",
    "df_prices = pd.read_parquet(PRICES_PATH)\n",
    "df_vol = pd.read_parquet(VOLA_PATH)"
   ]
  },
  {
   "cell_type": "code",
   "execution_count": 9,
   "metadata": {},
   "outputs": [],
   "source": [
    "# To view the logs:\n",
    "# 1. Open a terminal or command prompt.\n",
    "# 2. Navigate to the directory *containing* the `logs` directory (i.e., the root of this repository).\n",
    "# 3. Run the command: `tensorboard --logdir logs/`\n",
    "# 4. Open the URL provided by TensorBoard (usually http://localhost:6006/) in your web browser.\n",
    "\n",
    "# Create timestamp for this run\n",
    "timestamp = datetime.now().strftime(\"%Y%m%d_%H%M%S\")\n",
    "\n",
    "# Create configuration\n",
    "config = DRLConfig(\n",
    "    # Window configuration\n",
    "    n_windows=1,  # 10 in paper\n",
    "    agents_per_window=5,  # 5 in paper\n",
    "    base_start_year=2015,  # 2006 in paper\n",
    "    use_previous_best_seed=False,\n",
    "    # Environment parameters\n",
    "    env_window_size=60,\n",
    "    transaction_cost=0.0,\n",
    "    initial_balance=100_000,\n",
    "    reward_scaling=1.0,\n",
    "    eta_dsr=1 / 252,\n",
    "    # Training parameters\n",
    "    n_envs=10,\n",
    "    total_timesteps_per_round=7_500_000,  # 7_500_000 in paper\n",
    "    n_steps_per_env=252 * 3,\n",
    "    batch_size=1260,\n",
    "    n_epochs=16,\n",
    "    gamma=0.9,\n",
    "    gae_lambda=0.9,\n",
    "    clip_range=0.25,\n",
    "    log_std_init=-1.0,\n",
    "    # Learning rate parameters\n",
    "    initial_lr=3e-4,\n",
    "    final_lr=1e-5,\n",
    "    # Paths\n",
    "    model_save_dir=f\"../models/{timestamp}\",\n",
    "    tensorboard_log_dir=f\"../logs/{timestamp}\",\n",
    "    data_dir=DATA_DIR,\n",
    ")"
   ]
  },
  {
   "cell_type": "code",
   "execution_count": 10,
   "metadata": {},
   "outputs": [
    {
     "name": "stdout",
     "output_type": "stream",
     "text": [
      "\n",
      "Configuration saved to: ../models/20250701_082652/config_20250701_082652.json\n"
     ]
    }
   ],
   "source": [
    "# Save config as JSON\n",
    "from dataclasses import asdict\n",
    "\n",
    "config_dict = asdict(config)\n",
    "config_json_path = os.path.join(config.model_save_dir, f\"config_{timestamp}.json\")\n",
    "os.makedirs(config.model_save_dir, exist_ok=True)\n",
    "with open(config_json_path, \"w\") as f:\n",
    "    json.dump(config_dict, f, indent=4)\n",
    "print(f\"\\nConfiguration saved to: {config_json_path}\")"
   ]
  },
  {
   "cell_type": "code",
   "execution_count": null,
   "metadata": {},
   "outputs": [
    {
     "name": "stdout",
     "output_type": "stream",
     "text": [
      "--- Starting Window 1/1 (Train Year Start: 2015) ---\n",
      "  Train Period: 2015-01-01 to 2019-12-31\n",
      "  Val Period  : 2020-01-01 to 2020-12-31\n",
      "  Test Period : 2021-01-01 to 2021-12-31\n",
      "  Starting with fresh random initialization\n",
      "  Training Agent 1/5 with seed 0...\n"
     ]
    },
    {
     "data": {
      "application/vnd.jupyter.widget-view+json": {
       "model_id": "6b595a27f36a46ee823ec31f7cd9361f",
       "version_major": 2,
       "version_minor": 0
      },
      "text/plain": [
       "Output()"
      ]
     },
     "metadata": {},
     "output_type": "display_data"
    },
    {
     "name": "stdout",
     "output_type": "stream",
     "text": [
      "    Starting training for 7500000 timesteps...\n"
     ]
    },
    {
     "data": {
      "text/html": [
       "<pre style=\"white-space:pre;overflow-x:auto;line-height:normal;font-family:Menlo,'DejaVu Sans Mono',consolas,'Courier New',monospace\"></pre>\n"
      ],
      "text/plain": []
     },
     "metadata": {},
     "output_type": "display_data"
    },
    {
     "name": "stdout",
     "output_type": "stream",
     "text": [
      "\n",
      "Training complete. Trained for 7500000 timesteps.\n",
      "TensorBoard logs for experiment 'PPO_Seed0' saved in directory: ../logs/20250701_082652\n",
      "    Evaluating agent on validation set...\n",
      "    Validation Mean Reward: -8.9831\n",
      "    Agent saved to: ../models/20250701_082652/agent_seed0_valrew-8.98.zip\n",
      "  Training Agent 2/5 with seed 1...\n"
     ]
    },
    {
     "data": {
      "application/vnd.jupyter.widget-view+json": {
       "model_id": "2c29271a53704c45a76b733cb3bea7e4",
       "version_major": 2,
       "version_minor": 0
      },
      "text/plain": [
       "Output()"
      ]
     },
     "metadata": {},
     "output_type": "display_data"
    },
    {
     "name": "stdout",
     "output_type": "stream",
     "text": [
      "    Starting training for 7500000 timesteps...\n"
     ]
    },
    {
     "data": {
      "text/html": [
       "<pre style=\"white-space:pre;overflow-x:auto;line-height:normal;font-family:Menlo,'DejaVu Sans Mono',consolas,'Courier New',monospace\"></pre>\n"
      ],
      "text/plain": []
     },
     "metadata": {},
     "output_type": "display_data"
    },
    {
     "name": "stdout",
     "output_type": "stream",
     "text": [
      "\n",
      "Training complete. Trained for 7500000 timesteps.\n",
      "TensorBoard logs for experiment 'PPO_Seed1' saved in directory: ../logs/20250701_082652\n",
      "    Evaluating agent on validation set...\n",
      "    Validation Mean Reward: -9.7458\n",
      "    Agent saved to: ../models/20250701_082652/agent_seed1_valrew-9.75.zip\n",
      "  Training Agent 3/5 with seed 2...\n"
     ]
    },
    {
     "data": {
      "application/vnd.jupyter.widget-view+json": {
       "model_id": "d9090be39c8c46d98ae69bd781c33678",
       "version_major": 2,
       "version_minor": 0
      },
      "text/plain": [
       "Output()"
      ]
     },
     "metadata": {},
     "output_type": "display_data"
    },
    {
     "name": "stdout",
     "output_type": "stream",
     "text": [
      "    Starting training for 7500000 timesteps...\n"
     ]
    }
   ],
   "source": [
    "# Run training pipeline\n",
    "results, backtest_portfolio = training_pipeline(\n",
    "    drl_config=config, df_prices=df_prices, df_ret=df_ret, df_vol=df_vol\n",
    ")"
   ]
  },
  {
   "cell_type": "code",
   "execution_count": 6,
   "metadata": {},
   "outputs": [
    {
     "ename": "NameError",
     "evalue": "name 'backtest_portfolio' is not defined",
     "output_type": "error",
     "traceback": [
      "\u001b[31m---------------------------------------------------------------------------\u001b[39m",
      "\u001b[31mNameError\u001b[39m                                 Traceback (most recent call last)",
      "\u001b[36mCell\u001b[39m\u001b[36m \u001b[39m\u001b[32mIn[6]\u001b[39m\u001b[32m, line 1\u001b[39m\n\u001b[32m----> \u001b[39m\u001b[32m1\u001b[39m \u001b[38;5;28;01mfor\u001b[39;00m idx, p \u001b[38;5;129;01min\u001b[39;00m \u001b[43mbacktest_portfolio\u001b[49m.items():\n\u001b[32m      2\u001b[39m     fname = \u001b[33mf\u001b[39m\u001b[33m\"\u001b[39m\u001b[38;5;132;01m{\u001b[39;00midx\u001b[38;5;132;01m}\u001b[39;00m\u001b[33m_portfolio.csv\u001b[39m\u001b[33m\"\u001b[39m\n\u001b[32m      3\u001b[39m     p.get_history().to_csv(os.path.join(config.model_save_dir, fname))\n",
      "\u001b[31mNameError\u001b[39m: name 'backtest_portfolio' is not defined"
     ]
    }
   ],
   "source": [
    "for idx, p in backtest_portfolio.items():\n",
    "    fname = f\"{idx}_portfolio.csv\"\n",
    "    p.get_history().to_csv(os.path.join(config.model_save_dir, fname))"
   ]
  },
  {
   "cell_type": "code",
   "execution_count": null,
   "metadata": {},
   "outputs": [
    {
     "name": "stdout",
     "output_type": "stream",
     "text": [
      "\n",
      "Backtest results summary saved to: ../models/20250701_004204/backtest_results_summary_20250701_004204.csv\n",
      "\n",
      "Final Results DataFrame:\n"
     ]
    },
    {
     "data": {
      "text/html": [
       "<div>\n",
       "<style scoped>\n",
       "    .dataframe tbody tr th:only-of-type {\n",
       "        vertical-align: middle;\n",
       "    }\n",
       "\n",
       "    .dataframe tbody tr th {\n",
       "        vertical-align: top;\n",
       "    }\n",
       "\n",
       "    .dataframe thead th {\n",
       "        text-align: right;\n",
       "    }\n",
       "</style>\n",
       "<table border=\"1\" class=\"dataframe\">\n",
       "  <thead>\n",
       "    <tr style=\"text-align: right;\">\n",
       "      <th></th>\n",
       "      <th>window</th>\n",
       "      <th>best_agent_path</th>\n",
       "      <th>n_eval_episodes</th>\n",
       "      <th>mean_reward</th>\n",
       "      <th>std_reward</th>\n",
       "      <th>Annual return</th>\n",
       "      <th>Cumulative returns</th>\n",
       "      <th>Annual volatility</th>\n",
       "      <th>Sharpe ratio</th>\n",
       "      <th>Calmar ratio</th>\n",
       "      <th>Stability</th>\n",
       "      <th>Max drawdown</th>\n",
       "      <th>Omega ratio</th>\n",
       "      <th>Sortino ratio</th>\n",
       "      <th>Skew</th>\n",
       "      <th>Kurtosis</th>\n",
       "      <th>Tail ratio</th>\n",
       "      <th>Daily value at risk (95%)</th>\n",
       "      <th>Portfolio turnover (in %)</th>\n",
       "      <th>final_portfolio_value_first_episode</th>\n",
       "    </tr>\n",
       "  </thead>\n",
       "  <tbody>\n",
       "    <tr>\n",
       "      <th>0</th>\n",
       "      <td>1</td>\n",
       "      <td>agent_seed0_valrew15</td>\n",
       "      <td>1</td>\n",
       "      <td>36.708522</td>\n",
       "      <td>0.0</td>\n",
       "      <td>0.059012</td>\n",
       "      <td>0.058530</td>\n",
       "      <td>0.180260</td>\n",
       "      <td>0.409353</td>\n",
       "      <td>0.528551</td>\n",
       "      <td>0.847271</td>\n",
       "      <td>-0.111649</td>\n",
       "      <td>1.076760</td>\n",
       "      <td>0.484042</td>\n",
       "      <td>-1.560477</td>\n",
       "      <td>10.749818</td>\n",
       "      <td>0.929536</td>\n",
       "      <td>-0.017837</td>\n",
       "      <td>0.695361</td>\n",
       "      <td>105853</td>\n",
       "    </tr>\n",
       "    <tr>\n",
       "      <th>1</th>\n",
       "      <td>2</td>\n",
       "      <td>agent_seed3_valrew36</td>\n",
       "      <td>1</td>\n",
       "      <td>18.755455</td>\n",
       "      <td>0.0</td>\n",
       "      <td>0.239067</td>\n",
       "      <td>0.235909</td>\n",
       "      <td>0.079216</td>\n",
       "      <td>2.746644</td>\n",
       "      <td>10.983807</td>\n",
       "      <td>0.926598</td>\n",
       "      <td>-0.021765</td>\n",
       "      <td>1.593735</td>\n",
       "      <td>4.821020</td>\n",
       "      <td>0.625763</td>\n",
       "      <td>4.000017</td>\n",
       "      <td>1.324281</td>\n",
       "      <td>-0.006126</td>\n",
       "      <td>0.508986</td>\n",
       "      <td>123591</td>\n",
       "    </tr>\n",
       "  </tbody>\n",
       "</table>\n",
       "</div>"
      ],
      "text/plain": [
       "   window       best_agent_path  n_eval_episodes  mean_reward  std_reward  \\\n",
       "0       1  agent_seed0_valrew15                1    36.708522         0.0   \n",
       "1       2  agent_seed3_valrew36                1    18.755455         0.0   \n",
       "\n",
       "   Annual return  Cumulative returns  Annual volatility  Sharpe ratio  \\\n",
       "0       0.059012            0.058530           0.180260      0.409353   \n",
       "1       0.239067            0.235909           0.079216      2.746644   \n",
       "\n",
       "   Calmar ratio  Stability  Max drawdown  Omega ratio  Sortino ratio  \\\n",
       "0      0.528551   0.847271     -0.111649     1.076760       0.484042   \n",
       "1     10.983807   0.926598     -0.021765     1.593735       4.821020   \n",
       "\n",
       "       Skew   Kurtosis  Tail ratio  Daily value at risk (95%)  \\\n",
       "0 -1.560477  10.749818    0.929536                  -0.017837   \n",
       "1  0.625763   4.000017    1.324281                  -0.006126   \n",
       "\n",
       "   Portfolio turnover (in %)  final_portfolio_value_first_episode  \n",
       "0                   0.695361                               105853  \n",
       "1                   0.508986                               123591  "
      ]
     },
     "execution_count": 9,
     "metadata": {},
     "output_type": "execute_result"
    }
   ],
   "source": [
    "results_filename = f\"backtest_results_summary_{timestamp}.csv\"\n",
    "results_save_path = os.path.join(config.model_save_dir, results_filename)\n",
    "\n",
    "results_df = pd.DataFrame(results)\n",
    "results_df.to_csv(results_save_path, index=False)\n",
    "print(f\"\\nBacktest results summary saved to: {results_save_path}\")\n",
    "print(\"\\nFinal Results DataFrame:\")\n",
    "results_df.head()"
   ]
  }
 ],
 "metadata": {
  "kernelspec": {
   "display_name": "rl",
   "language": "python",
   "name": "python3"
  },
  "language_info": {
   "codemirror_mode": {
    "name": "ipython",
    "version": 3
   },
   "file_extension": ".py",
   "mimetype": "text/x-python",
   "name": "python",
   "nbconvert_exporter": "python",
   "pygments_lexer": "ipython3",
   "version": "3.11.0"
  }
 },
 "nbformat": 4,
 "nbformat_minor": 2
}
