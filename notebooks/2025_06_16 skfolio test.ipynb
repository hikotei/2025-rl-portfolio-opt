{
 "cells": [
  {
   "cell_type": "code",
   "execution_count": 3,
   "metadata": {},
   "outputs": [],
   "source": [
    "import os\n",
    "import numpy as np\n",
    "import pandas as pd\n",
    "import seaborn as sns\n",
    "import matplotlib.pyplot as plt\n",
    "\n",
    "from plotly.io import show\n",
    "from datetime import datetime\n",
    "from sklearn.model_selection import train_test_split\n",
    "\n",
    "from skfolio import Population, RiskMeasure\n",
    "from skfolio.datasets import load_sp500_dataset\n",
    "from skfolio.optimization import (\n",
    "    InverseVolatility,\n",
    "    MeanRisk,\n",
    "    ObjectiveFunction,\n",
    "    EqualWeighted,\n",
    ")\n",
    "from skfolio.preprocessing import prices_to_returns"
   ]
  },
  {
   "cell_type": "code",
   "execution_count": 13,
   "metadata": {},
   "outputs": [
    {
     "data": {
      "text/html": [
       "<div>\n",
       "<style scoped>\n",
       "    .dataframe tbody tr th:only-of-type {\n",
       "        vertical-align: middle;\n",
       "    }\n",
       "\n",
       "    .dataframe tbody tr th {\n",
       "        vertical-align: top;\n",
       "    }\n",
       "\n",
       "    .dataframe thead th {\n",
       "        text-align: right;\n",
       "    }\n",
       "</style>\n",
       "<table border=\"1\" class=\"dataframe\">\n",
       "  <thead>\n",
       "    <tr style=\"text-align: right;\">\n",
       "      <th></th>\n",
       "      <th>AAPL</th>\n",
       "      <th>AMD</th>\n",
       "      <th>BAC</th>\n",
       "      <th>BBY</th>\n",
       "      <th>CVX</th>\n",
       "      <th>GE</th>\n",
       "      <th>HD</th>\n",
       "      <th>JNJ</th>\n",
       "      <th>JPM</th>\n",
       "      <th>KO</th>\n",
       "      <th>LLY</th>\n",
       "      <th>MRK</th>\n",
       "      <th>MSFT</th>\n",
       "      <th>PEP</th>\n",
       "      <th>PFE</th>\n",
       "      <th>PG</th>\n",
       "      <th>RRC</th>\n",
       "      <th>UNH</th>\n",
       "      <th>WMT</th>\n",
       "      <th>XOM</th>\n",
       "    </tr>\n",
       "    <tr>\n",
       "      <th>Date</th>\n",
       "      <th></th>\n",
       "      <th></th>\n",
       "      <th></th>\n",
       "      <th></th>\n",
       "      <th></th>\n",
       "      <th></th>\n",
       "      <th></th>\n",
       "      <th></th>\n",
       "      <th></th>\n",
       "      <th></th>\n",
       "      <th></th>\n",
       "      <th></th>\n",
       "      <th></th>\n",
       "      <th></th>\n",
       "      <th></th>\n",
       "      <th></th>\n",
       "      <th></th>\n",
       "      <th></th>\n",
       "      <th></th>\n",
       "      <th></th>\n",
       "    </tr>\n",
       "  </thead>\n",
       "  <tbody>\n",
       "    <tr>\n",
       "      <th>1990-01-03</th>\n",
       "      <td>0.007576</td>\n",
       "      <td>-0.030303</td>\n",
       "      <td>0.008045</td>\n",
       "      <td>0.118056</td>\n",
       "      <td>-0.016229</td>\n",
       "      <td>-0.001876</td>\n",
       "      <td>0.003581</td>\n",
       "      <td>0.004072</td>\n",
       "      <td>0.033589</td>\n",
       "      <td>-0.014318</td>\n",
       "      <td>0.000000</td>\n",
       "      <td>0.015896</td>\n",
       "      <td>0.005208</td>\n",
       "      <td>-0.009709</td>\n",
       "      <td>0.002938</td>\n",
       "      <td>-0.001813</td>\n",
       "      <td>0.0</td>\n",
       "      <td>-0.019355</td>\n",
       "      <td>0.000000</td>\n",
       "      <td>-0.010079</td>\n",
       "    </tr>\n",
       "    <tr>\n",
       "      <th>1990-01-04</th>\n",
       "      <td>0.003759</td>\n",
       "      <td>-0.015500</td>\n",
       "      <td>-0.021355</td>\n",
       "      <td>-0.012422</td>\n",
       "      <td>-0.012831</td>\n",
       "      <td>-0.005639</td>\n",
       "      <td>0.006244</td>\n",
       "      <td>0.002028</td>\n",
       "      <td>0.003991</td>\n",
       "      <td>-0.004993</td>\n",
       "      <td>-0.005557</td>\n",
       "      <td>-0.015647</td>\n",
       "      <td>0.028497</td>\n",
       "      <td>-0.009804</td>\n",
       "      <td>0.016602</td>\n",
       "      <td>-0.019725</td>\n",
       "      <td>0.0</td>\n",
       "      <td>-0.009868</td>\n",
       "      <td>-0.005201</td>\n",
       "      <td>-0.009933</td>\n",
       "    </tr>\n",
       "    <tr>\n",
       "      <th>1990-01-05</th>\n",
       "      <td>0.003745</td>\n",
       "      <td>-0.031996</td>\n",
       "      <td>-0.021821</td>\n",
       "      <td>0.000000</td>\n",
       "      <td>-0.014855</td>\n",
       "      <td>-0.009452</td>\n",
       "      <td>-0.013298</td>\n",
       "      <td>-0.010408</td>\n",
       "      <td>0.003975</td>\n",
       "      <td>-0.008212</td>\n",
       "      <td>-0.010874</td>\n",
       "      <td>-0.020641</td>\n",
       "      <td>-0.025189</td>\n",
       "      <td>-0.013991</td>\n",
       "      <td>-0.008646</td>\n",
       "      <td>-0.018004</td>\n",
       "      <td>0.0</td>\n",
       "      <td>-0.043189</td>\n",
       "      <td>-0.010732</td>\n",
       "      <td>-0.005267</td>\n",
       "    </tr>\n",
       "    <tr>\n",
       "      <th>1990-01-08</th>\n",
       "      <td>0.003731</td>\n",
       "      <td>0.000000</td>\n",
       "      <td>0.005633</td>\n",
       "      <td>-0.075472</td>\n",
       "      <td>0.009424</td>\n",
       "      <td>0.005725</td>\n",
       "      <td>-0.009883</td>\n",
       "      <td>0.016944</td>\n",
       "      <td>0.000000</td>\n",
       "      <td>0.021159</td>\n",
       "      <td>0.000000</td>\n",
       "      <td>0.012839</td>\n",
       "      <td>0.015504</td>\n",
       "      <td>0.018118</td>\n",
       "      <td>-0.008721</td>\n",
       "      <td>0.018334</td>\n",
       "      <td>0.0</td>\n",
       "      <td>-0.020833</td>\n",
       "      <td>0.013630</td>\n",
       "      <td>0.015381</td>\n",
       "    </tr>\n",
       "    <tr>\n",
       "      <th>1990-01-09</th>\n",
       "      <td>-0.007435</td>\n",
       "      <td>0.016527</td>\n",
       "      <td>0.000000</td>\n",
       "      <td>0.000000</td>\n",
       "      <td>-0.007469</td>\n",
       "      <td>-0.020803</td>\n",
       "      <td>-0.026316</td>\n",
       "      <td>-0.031026</td>\n",
       "      <td>-0.031957</td>\n",
       "      <td>-0.007658</td>\n",
       "      <td>-0.011147</td>\n",
       "      <td>-0.007893</td>\n",
       "      <td>-0.002545</td>\n",
       "      <td>-0.013722</td>\n",
       "      <td>-0.021505</td>\n",
       "      <td>0.000000</td>\n",
       "      <td>0.0</td>\n",
       "      <td>-0.024823</td>\n",
       "      <td>-0.026619</td>\n",
       "      <td>-0.020114</td>\n",
       "    </tr>\n",
       "  </tbody>\n",
       "</table>\n",
       "</div>"
      ],
      "text/plain": [
       "                AAPL       AMD       BAC       BBY       CVX        GE  \\\n",
       "Date                                                                     \n",
       "1990-01-03  0.007576 -0.030303  0.008045  0.118056 -0.016229 -0.001876   \n",
       "1990-01-04  0.003759 -0.015500 -0.021355 -0.012422 -0.012831 -0.005639   \n",
       "1990-01-05  0.003745 -0.031996 -0.021821  0.000000 -0.014855 -0.009452   \n",
       "1990-01-08  0.003731  0.000000  0.005633 -0.075472  0.009424  0.005725   \n",
       "1990-01-09 -0.007435  0.016527  0.000000  0.000000 -0.007469 -0.020803   \n",
       "\n",
       "                  HD       JNJ       JPM        KO       LLY       MRK  \\\n",
       "Date                                                                     \n",
       "1990-01-03  0.003581  0.004072  0.033589 -0.014318  0.000000  0.015896   \n",
       "1990-01-04  0.006244  0.002028  0.003991 -0.004993 -0.005557 -0.015647   \n",
       "1990-01-05 -0.013298 -0.010408  0.003975 -0.008212 -0.010874 -0.020641   \n",
       "1990-01-08 -0.009883  0.016944  0.000000  0.021159  0.000000  0.012839   \n",
       "1990-01-09 -0.026316 -0.031026 -0.031957 -0.007658 -0.011147 -0.007893   \n",
       "\n",
       "                MSFT       PEP       PFE        PG  RRC       UNH       WMT  \\\n",
       "Date                                                                          \n",
       "1990-01-03  0.005208 -0.009709  0.002938 -0.001813  0.0 -0.019355  0.000000   \n",
       "1990-01-04  0.028497 -0.009804  0.016602 -0.019725  0.0 -0.009868 -0.005201   \n",
       "1990-01-05 -0.025189 -0.013991 -0.008646 -0.018004  0.0 -0.043189 -0.010732   \n",
       "1990-01-08  0.015504  0.018118 -0.008721  0.018334  0.0 -0.020833  0.013630   \n",
       "1990-01-09 -0.002545 -0.013722 -0.021505  0.000000  0.0 -0.024823 -0.026619   \n",
       "\n",
       "                 XOM  \n",
       "Date                  \n",
       "1990-01-03 -0.010079  \n",
       "1990-01-04 -0.009933  \n",
       "1990-01-05 -0.005267  \n",
       "1990-01-08  0.015381  \n",
       "1990-01-09 -0.020114  "
      ]
     },
     "execution_count": 13,
     "metadata": {},
     "output_type": "execute_result"
    }
   ],
   "source": [
    "prices = load_sp500_dataset()\n",
    "X = prices_to_returns(prices)\n",
    "X.head()"
   ]
  },
  {
   "cell_type": "code",
   "execution_count": 16,
   "metadata": {},
   "outputs": [
    {
     "data": {
      "text/html": [
       "<div>\n",
       "<style scoped>\n",
       "    .dataframe tbody tr th:only-of-type {\n",
       "        vertical-align: middle;\n",
       "    }\n",
       "\n",
       "    .dataframe tbody tr th {\n",
       "        vertical-align: top;\n",
       "    }\n",
       "\n",
       "    .dataframe thead th {\n",
       "        text-align: right;\n",
       "    }\n",
       "</style>\n",
       "<table border=\"1\" class=\"dataframe\">\n",
       "  <thead>\n",
       "    <tr style=\"text-align: right;\">\n",
       "      <th></th>\n",
       "      <th>AAPL</th>\n",
       "      <th>AMD</th>\n",
       "      <th>BAC</th>\n",
       "      <th>BBY</th>\n",
       "      <th>CVX</th>\n",
       "      <th>GE</th>\n",
       "      <th>HD</th>\n",
       "      <th>JNJ</th>\n",
       "      <th>JPM</th>\n",
       "      <th>KO</th>\n",
       "      <th>LLY</th>\n",
       "      <th>MRK</th>\n",
       "      <th>MSFT</th>\n",
       "      <th>PEP</th>\n",
       "      <th>PFE</th>\n",
       "      <th>PG</th>\n",
       "      <th>RRC</th>\n",
       "      <th>UNH</th>\n",
       "      <th>WMT</th>\n",
       "      <th>XOM</th>\n",
       "    </tr>\n",
       "    <tr>\n",
       "      <th>Date</th>\n",
       "      <th></th>\n",
       "      <th></th>\n",
       "      <th></th>\n",
       "      <th></th>\n",
       "      <th></th>\n",
       "      <th></th>\n",
       "      <th></th>\n",
       "      <th></th>\n",
       "      <th></th>\n",
       "      <th></th>\n",
       "      <th></th>\n",
       "      <th></th>\n",
       "      <th></th>\n",
       "      <th></th>\n",
       "      <th></th>\n",
       "      <th></th>\n",
       "      <th></th>\n",
       "      <th></th>\n",
       "      <th></th>\n",
       "      <th></th>\n",
       "    </tr>\n",
       "  </thead>\n",
       "  <tbody>\n",
       "    <tr>\n",
       "      <th>1990-01-31</th>\n",
       "      <td>-0.087121</td>\n",
       "      <td>-0.121212</td>\n",
       "      <td>-0.099369</td>\n",
       "      <td>0.104167</td>\n",
       "      <td>-0.032458</td>\n",
       "      <td>-0.067403</td>\n",
       "      <td>-0.069830</td>\n",
       "      <td>-0.125364</td>\n",
       "      <td>-1.414260e-01</td>\n",
       "      <td>-0.117226</td>\n",
       "      <td>-0.081856</td>\n",
       "      <td>-0.081139</td>\n",
       "      <td>0.041667</td>\n",
       "      <td>-0.105108</td>\n",
       "      <td>-0.035260</td>\n",
       "      <td>-0.086528</td>\n",
       "      <td>0.000000</td>\n",
       "      <td>-0.245161</td>\n",
       "      <td>-0.095538</td>\n",
       "      <td>-0.059980</td>\n",
       "    </tr>\n",
       "    <tr>\n",
       "      <th>1990-02-28</th>\n",
       "      <td>0.004149</td>\n",
       "      <td>0.137931</td>\n",
       "      <td>0.068083</td>\n",
       "      <td>0.125786</td>\n",
       "      <td>0.014289</td>\n",
       "      <td>-0.000447</td>\n",
       "      <td>0.132820</td>\n",
       "      <td>0.029265</td>\n",
       "      <td>-5.147563e-03</td>\n",
       "      <td>0.023822</td>\n",
       "      <td>-0.037461</td>\n",
       "      <td>-0.053705</td>\n",
       "      <td>0.067500</td>\n",
       "      <td>0.017453</td>\n",
       "      <td>-0.130964</td>\n",
       "      <td>-0.001985</td>\n",
       "      <td>0.000000</td>\n",
       "      <td>0.012821</td>\n",
       "      <td>0.032385</td>\n",
       "      <td>0.012552</td>\n",
       "    </tr>\n",
       "    <tr>\n",
       "      <th>1990-03-31</th>\n",
       "      <td>0.181818</td>\n",
       "      <td>0.105939</td>\n",
       "      <td>-0.129069</td>\n",
       "      <td>0.335196</td>\n",
       "      <td>0.005512</td>\n",
       "      <td>0.040477</td>\n",
       "      <td>0.151232</td>\n",
       "      <td>0.046527</td>\n",
       "      <td>-6.450500e-02</td>\n",
       "      <td>0.066337</td>\n",
       "      <td>0.070530</td>\n",
       "      <td>0.023192</td>\n",
       "      <td>0.121780</td>\n",
       "      <td>0.075104</td>\n",
       "      <td>0.026869</td>\n",
       "      <td>0.060813</td>\n",
       "      <td>0.000000</td>\n",
       "      <td>0.042194</td>\n",
       "      <td>0.075344</td>\n",
       "      <td>-0.015754</td>\n",
       "    </tr>\n",
       "    <tr>\n",
       "      <th>1990-04-30</th>\n",
       "      <td>-0.020979</td>\n",
       "      <td>-0.040991</td>\n",
       "      <td>-0.019465</td>\n",
       "      <td>-0.217573</td>\n",
       "      <td>-0.023959</td>\n",
       "      <td>-0.003940</td>\n",
       "      <td>0.021402</td>\n",
       "      <td>0.008953</td>\n",
       "      <td>4.440892e-16</td>\n",
       "      <td>0.019963</td>\n",
       "      <td>0.023178</td>\n",
       "      <td>0.053867</td>\n",
       "      <td>0.045929</td>\n",
       "      <td>0.057999</td>\n",
       "      <td>-0.063709</td>\n",
       "      <td>0.049022</td>\n",
       "      <td>-0.166767</td>\n",
       "      <td>0.101215</td>\n",
       "      <td>0.050436</td>\n",
       "      <td>-0.021779</td>\n",
       "    </tr>\n",
       "    <tr>\n",
       "      <th>1990-05-31</th>\n",
       "      <td>0.050000</td>\n",
       "      <td>0.200000</td>\n",
       "      <td>0.029116</td>\n",
       "      <td>0.310160</td>\n",
       "      <td>0.073851</td>\n",
       "      <td>0.083507</td>\n",
       "      <td>0.296965</td>\n",
       "      <td>0.134333</td>\n",
       "      <td>1.710914e-01</td>\n",
       "      <td>0.183432</td>\n",
       "      <td>0.190380</td>\n",
       "      <td>0.135881</td>\n",
       "      <td>0.259481</td>\n",
       "      <td>0.115142</td>\n",
       "      <td>0.172539</td>\n",
       "      <td>0.169816</td>\n",
       "      <td>0.600072</td>\n",
       "      <td>0.408088</td>\n",
       "      <td>0.135998</td>\n",
       "      <td>0.074571</td>\n",
       "    </tr>\n",
       "  </tbody>\n",
       "</table>\n",
       "</div>"
      ],
      "text/plain": [
       "                AAPL       AMD       BAC       BBY       CVX        GE  \\\n",
       "Date                                                                     \n",
       "1990-01-31 -0.087121 -0.121212 -0.099369  0.104167 -0.032458 -0.067403   \n",
       "1990-02-28  0.004149  0.137931  0.068083  0.125786  0.014289 -0.000447   \n",
       "1990-03-31  0.181818  0.105939 -0.129069  0.335196  0.005512  0.040477   \n",
       "1990-04-30 -0.020979 -0.040991 -0.019465 -0.217573 -0.023959 -0.003940   \n",
       "1990-05-31  0.050000  0.200000  0.029116  0.310160  0.073851  0.083507   \n",
       "\n",
       "                  HD       JNJ           JPM        KO       LLY       MRK  \\\n",
       "Date                                                                         \n",
       "1990-01-31 -0.069830 -0.125364 -1.414260e-01 -0.117226 -0.081856 -0.081139   \n",
       "1990-02-28  0.132820  0.029265 -5.147563e-03  0.023822 -0.037461 -0.053705   \n",
       "1990-03-31  0.151232  0.046527 -6.450500e-02  0.066337  0.070530  0.023192   \n",
       "1990-04-30  0.021402  0.008953  4.440892e-16  0.019963  0.023178  0.053867   \n",
       "1990-05-31  0.296965  0.134333  1.710914e-01  0.183432  0.190380  0.135881   \n",
       "\n",
       "                MSFT       PEP       PFE        PG       RRC       UNH  \\\n",
       "Date                                                                     \n",
       "1990-01-31  0.041667 -0.105108 -0.035260 -0.086528  0.000000 -0.245161   \n",
       "1990-02-28  0.067500  0.017453 -0.130964 -0.001985  0.000000  0.012821   \n",
       "1990-03-31  0.121780  0.075104  0.026869  0.060813  0.000000  0.042194   \n",
       "1990-04-30  0.045929  0.057999 -0.063709  0.049022 -0.166767  0.101215   \n",
       "1990-05-31  0.259481  0.115142  0.172539  0.169816  0.600072  0.408088   \n",
       "\n",
       "                 WMT       XOM  \n",
       "Date                            \n",
       "1990-01-31 -0.095538 -0.059980  \n",
       "1990-02-28  0.032385  0.012552  \n",
       "1990-03-31  0.075344 -0.015754  \n",
       "1990-04-30  0.050436 -0.021779  \n",
       "1990-05-31  0.135998  0.074571  "
      ]
     },
     "execution_count": 16,
     "metadata": {},
     "output_type": "execute_result"
    }
   ],
   "source": [
    "X_month = (1 + X).resample('ME').prod() - 1\n",
    "X_month.head()"
   ]
  },
  {
   "cell_type": "code",
   "execution_count": 17,
   "metadata": {},
   "outputs": [
    {
     "data": {
      "text/html": [
       "<div>\n",
       "<style scoped>\n",
       "    .dataframe tbody tr th:only-of-type {\n",
       "        vertical-align: middle;\n",
       "    }\n",
       "\n",
       "    .dataframe tbody tr th {\n",
       "        vertical-align: top;\n",
       "    }\n",
       "\n",
       "    .dataframe thead th {\n",
       "        text-align: right;\n",
       "    }\n",
       "</style>\n",
       "<table border=\"1\" class=\"dataframe\">\n",
       "  <thead>\n",
       "    <tr style=\"text-align: right;\">\n",
       "      <th></th>\n",
       "      <th>AAPL</th>\n",
       "      <th>AMD</th>\n",
       "      <th>BAC</th>\n",
       "      <th>BBY</th>\n",
       "      <th>CVX</th>\n",
       "      <th>GE</th>\n",
       "      <th>HD</th>\n",
       "      <th>JNJ</th>\n",
       "      <th>JPM</th>\n",
       "      <th>KO</th>\n",
       "      <th>LLY</th>\n",
       "      <th>MRK</th>\n",
       "      <th>MSFT</th>\n",
       "      <th>PEP</th>\n",
       "      <th>PFE</th>\n",
       "      <th>PG</th>\n",
       "      <th>RRC</th>\n",
       "      <th>UNH</th>\n",
       "      <th>WMT</th>\n",
       "      <th>XOM</th>\n",
       "    </tr>\n",
       "    <tr>\n",
       "      <th>Date</th>\n",
       "      <th></th>\n",
       "      <th></th>\n",
       "      <th></th>\n",
       "      <th></th>\n",
       "      <th></th>\n",
       "      <th></th>\n",
       "      <th></th>\n",
       "      <th></th>\n",
       "      <th></th>\n",
       "      <th></th>\n",
       "      <th></th>\n",
       "      <th></th>\n",
       "      <th></th>\n",
       "      <th></th>\n",
       "      <th></th>\n",
       "      <th></th>\n",
       "      <th></th>\n",
       "      <th></th>\n",
       "      <th></th>\n",
       "      <th></th>\n",
       "    </tr>\n",
       "  </thead>\n",
       "  <tbody>\n",
       "    <tr>\n",
       "      <th>1990-01-31</th>\n",
       "      <td>-0.087121</td>\n",
       "      <td>-0.121212</td>\n",
       "      <td>-0.099369</td>\n",
       "      <td>0.104167</td>\n",
       "      <td>-0.032458</td>\n",
       "      <td>-0.067403</td>\n",
       "      <td>-0.069830</td>\n",
       "      <td>-0.125364</td>\n",
       "      <td>-1.414260e-01</td>\n",
       "      <td>-0.117226</td>\n",
       "      <td>-0.081856</td>\n",
       "      <td>-0.081139</td>\n",
       "      <td>0.041667</td>\n",
       "      <td>-0.105108</td>\n",
       "      <td>-0.035260</td>\n",
       "      <td>-0.086528</td>\n",
       "      <td>0.000000</td>\n",
       "      <td>-0.245161</td>\n",
       "      <td>-0.095538</td>\n",
       "      <td>-0.059980</td>\n",
       "    </tr>\n",
       "    <tr>\n",
       "      <th>1990-02-28</th>\n",
       "      <td>0.004149</td>\n",
       "      <td>0.137931</td>\n",
       "      <td>0.068083</td>\n",
       "      <td>0.125786</td>\n",
       "      <td>0.014289</td>\n",
       "      <td>-0.000447</td>\n",
       "      <td>0.132820</td>\n",
       "      <td>0.029265</td>\n",
       "      <td>-5.147563e-03</td>\n",
       "      <td>0.023822</td>\n",
       "      <td>-0.037461</td>\n",
       "      <td>-0.053705</td>\n",
       "      <td>0.067500</td>\n",
       "      <td>0.017453</td>\n",
       "      <td>-0.130964</td>\n",
       "      <td>-0.001985</td>\n",
       "      <td>0.000000</td>\n",
       "      <td>0.012821</td>\n",
       "      <td>0.032385</td>\n",
       "      <td>0.012552</td>\n",
       "    </tr>\n",
       "    <tr>\n",
       "      <th>1990-03-31</th>\n",
       "      <td>0.181818</td>\n",
       "      <td>0.105939</td>\n",
       "      <td>-0.129069</td>\n",
       "      <td>0.335196</td>\n",
       "      <td>0.005512</td>\n",
       "      <td>0.040477</td>\n",
       "      <td>0.151232</td>\n",
       "      <td>0.046527</td>\n",
       "      <td>-6.450500e-02</td>\n",
       "      <td>0.066337</td>\n",
       "      <td>0.070530</td>\n",
       "      <td>0.023192</td>\n",
       "      <td>0.121780</td>\n",
       "      <td>0.075104</td>\n",
       "      <td>0.026869</td>\n",
       "      <td>0.060813</td>\n",
       "      <td>0.000000</td>\n",
       "      <td>0.042194</td>\n",
       "      <td>0.075344</td>\n",
       "      <td>-0.015754</td>\n",
       "    </tr>\n",
       "    <tr>\n",
       "      <th>1990-04-30</th>\n",
       "      <td>-0.020979</td>\n",
       "      <td>-0.040991</td>\n",
       "      <td>-0.019465</td>\n",
       "      <td>-0.217573</td>\n",
       "      <td>-0.023959</td>\n",
       "      <td>-0.003940</td>\n",
       "      <td>0.021402</td>\n",
       "      <td>0.008953</td>\n",
       "      <td>4.440892e-16</td>\n",
       "      <td>0.019963</td>\n",
       "      <td>0.023178</td>\n",
       "      <td>0.053867</td>\n",
       "      <td>0.045929</td>\n",
       "      <td>0.057999</td>\n",
       "      <td>-0.063709</td>\n",
       "      <td>0.049022</td>\n",
       "      <td>-0.166767</td>\n",
       "      <td>0.101215</td>\n",
       "      <td>0.050436</td>\n",
       "      <td>-0.021779</td>\n",
       "    </tr>\n",
       "    <tr>\n",
       "      <th>1990-05-31</th>\n",
       "      <td>0.050000</td>\n",
       "      <td>0.200000</td>\n",
       "      <td>0.029116</td>\n",
       "      <td>0.310160</td>\n",
       "      <td>0.073851</td>\n",
       "      <td>0.083507</td>\n",
       "      <td>0.296965</td>\n",
       "      <td>0.134333</td>\n",
       "      <td>1.710914e-01</td>\n",
       "      <td>0.183432</td>\n",
       "      <td>0.190380</td>\n",
       "      <td>0.135881</td>\n",
       "      <td>0.259481</td>\n",
       "      <td>0.115142</td>\n",
       "      <td>0.172539</td>\n",
       "      <td>0.169816</td>\n",
       "      <td>0.600072</td>\n",
       "      <td>0.408088</td>\n",
       "      <td>0.135998</td>\n",
       "      <td>0.074571</td>\n",
       "    </tr>\n",
       "  </tbody>\n",
       "</table>\n",
       "</div>"
      ],
      "text/plain": [
       "                AAPL       AMD       BAC       BBY       CVX        GE  \\\n",
       "Date                                                                     \n",
       "1990-01-31 -0.087121 -0.121212 -0.099369  0.104167 -0.032458 -0.067403   \n",
       "1990-02-28  0.004149  0.137931  0.068083  0.125786  0.014289 -0.000447   \n",
       "1990-03-31  0.181818  0.105939 -0.129069  0.335196  0.005512  0.040477   \n",
       "1990-04-30 -0.020979 -0.040991 -0.019465 -0.217573 -0.023959 -0.003940   \n",
       "1990-05-31  0.050000  0.200000  0.029116  0.310160  0.073851  0.083507   \n",
       "\n",
       "                  HD       JNJ           JPM        KO       LLY       MRK  \\\n",
       "Date                                                                         \n",
       "1990-01-31 -0.069830 -0.125364 -1.414260e-01 -0.117226 -0.081856 -0.081139   \n",
       "1990-02-28  0.132820  0.029265 -5.147563e-03  0.023822 -0.037461 -0.053705   \n",
       "1990-03-31  0.151232  0.046527 -6.450500e-02  0.066337  0.070530  0.023192   \n",
       "1990-04-30  0.021402  0.008953  4.440892e-16  0.019963  0.023178  0.053867   \n",
       "1990-05-31  0.296965  0.134333  1.710914e-01  0.183432  0.190380  0.135881   \n",
       "\n",
       "                MSFT       PEP       PFE        PG       RRC       UNH  \\\n",
       "Date                                                                     \n",
       "1990-01-31  0.041667 -0.105108 -0.035260 -0.086528  0.000000 -0.245161   \n",
       "1990-02-28  0.067500  0.017453 -0.130964 -0.001985  0.000000  0.012821   \n",
       "1990-03-31  0.121780  0.075104  0.026869  0.060813  0.000000  0.042194   \n",
       "1990-04-30  0.045929  0.057999 -0.063709  0.049022 -0.166767  0.101215   \n",
       "1990-05-31  0.259481  0.115142  0.172539  0.169816  0.600072  0.408088   \n",
       "\n",
       "                 WMT       XOM  \n",
       "Date                            \n",
       "1990-01-31 -0.095538 -0.059980  \n",
       "1990-02-28  0.032385  0.012552  \n",
       "1990-03-31  0.075344 -0.015754  \n",
       "1990-04-30  0.050436 -0.021779  \n",
       "1990-05-31  0.135998  0.074571  "
      ]
     },
     "execution_count": 17,
     "metadata": {},
     "output_type": "execute_result"
    }
   ],
   "source": [
    "X_train, X_test = train_test_split(X_month, test_size=0.3, shuffle=False)\n",
    "X_train.head()"
   ]
  },
  {
   "cell_type": "code",
   "execution_count": 18,
   "metadata": {},
   "outputs": [
    {
     "data": {
      "text/plain": [
       "array([6.81716932e-02, 1.24919732e-08, 1.89022862e-08, 7.43892024e-02,\n",
       "       4.89858527e-02, 3.92019171e-08, 7.39197772e-02, 4.45494127e-02,\n",
       "       4.09377087e-08, 2.63762871e-02, 3.90372986e-03, 5.14911303e-07,\n",
       "       3.42727749e-02, 1.87166355e-06, 3.83480882e-02, 1.75528317e-01,\n",
       "       4.96540315e-02, 1.10553000e-01, 6.48071143e-02, 1.86538221e-01])"
      ]
     },
     "execution_count": 18,
     "metadata": {},
     "output_type": "execute_result"
    }
   ],
   "source": [
    "# use skfolio to implement MVO strategy\n",
    "# use max sharpe ratio as the objective function\n",
    "# for mean just use simlpe mean estimator, with alternative as stein shrinkage estimator\n",
    "# for cov mat use ledoit wolf shrinkage estimator\n",
    "\n",
    "from skfolio.prior import EmpiricalPrior\n",
    "from skfolio.moments import EmpiricalMu, ShrunkMu, LedoitWolf, DenoiseCovariance\n",
    "\n",
    "model = MeanRisk(\n",
    "    risk_measure=RiskMeasure.STANDARD_DEVIATION,\n",
    "    objective_function=ObjectiveFunction.MAXIMIZE_RATIO,\n",
    "    prior_estimator=EmpiricalPrior(\n",
    "        mu_estimator=EmpiricalMu(window_size=None),  # by default uses all given data\n",
    "        covariance_estimator=LedoitWolf(),\n",
    "    ),\n",
    "    # note that default uses empirical prior -> ie empirical mu and cov\n",
    "    portfolio_params=dict(name=\"Max Sharpe\"),\n",
    ")\n",
    "model.fit(X_train)\n",
    "model.weights_"
   ]
  },
  {
   "cell_type": "code",
   "execution_count": 20,
   "metadata": {},
   "outputs": [],
   "source": [
    "# model.prior_estimator_.mu_estimator_.window_size\n",
    "# model.prior_estimator_.covariance_estimator_.shrinkage_\n",
    "\n",
    "# model.prior_estimator_.return_distribution_\n",
    "# model.prior_estimator_.return_distribution_.covariance"
   ]
  },
  {
   "cell_type": "code",
   "execution_count": 21,
   "metadata": {},
   "outputs": [
    {
     "data": {
      "text/plain": [
       "array([0.02926877, 0.02045975, 0.03430406, 0.02264698, 0.07035864,\n",
       "       0.05383435, 0.04886095, 0.06845916, 0.03954924, 0.06450685,\n",
       "       0.05177101, 0.05253098, 0.04155939, 0.06681327, 0.05706484,\n",
       "       0.06722756, 0.02566855, 0.04082515, 0.05970715, 0.08458335])"
      ]
     },
     "execution_count": 21,
     "metadata": {},
     "output_type": "execute_result"
    }
   ],
   "source": [
    "# compare against inverse vol and baseline 1/N allocation\n",
    "# with rebalancing each period to make sure that\n",
    "# the uniform allocation is up to date to the current prices\n",
    "\n",
    "benchmark = InverseVolatility(portfolio_params=dict(name=\"Inverse Vol\"))\n",
    "benchmark.fit(X_train)\n",
    "benchmark.weights_"
   ]
  },
  {
   "cell_type": "code",
   "execution_count": 22,
   "metadata": {},
   "outputs": [
    {
     "data": {
      "text/plain": [
       "array([0.05, 0.05, 0.05, 0.05, 0.05, 0.05, 0.05, 0.05, 0.05, 0.05, 0.05,\n",
       "       0.05, 0.05, 0.05, 0.05, 0.05, 0.05, 0.05, 0.05, 0.05])"
      ]
     },
     "execution_count": 22,
     "metadata": {},
     "output_type": "execute_result"
    }
   ],
   "source": [
    "naive = EqualWeighted(portfolio_params=dict(name=\"Naive\"))\n",
    "naive.fit(X_train)\n",
    "naive.weights_"
   ]
  },
  {
   "cell_type": "code",
   "execution_count": 23,
   "metadata": {},
   "outputs": [
    {
     "name": "stdout",
     "output_type": "stream",
     "text": [
      "4.693442512496158\n",
      "4.91937810039147\n",
      "5.06644192550086\n"
     ]
    }
   ],
   "source": [
    "pred_model = model.predict(X_test)\n",
    "pred_bench = benchmark.predict(X_test)\n",
    "pred_naive = naive.predict(X_test)\n",
    "\n",
    "print(pred_model.annualized_sharpe_ratio)\n",
    "print(pred_bench.annualized_sharpe_ratio)\n",
    "print(pred_naive.annualized_sharpe_ratio)"
   ]
  },
  {
   "cell_type": "code",
   "execution_count": 24,
   "metadata": {},
   "outputs": [
    {
     "data": {
      "application/vnd.plotly.v1+json": {
       "config": {
        "plotlyServerURL": "https://plot.ly"
       },
       "data": [
        {
         "alignmentgroup": "True",
         "hovertemplate": "asset=XOM<br>index=%{x}<br>value=%{y}<extra></extra>",
         "legendgroup": "XOM",
         "marker": {
          "color": "#636efa",
          "pattern": {
           "shape": ""
          }
         },
         "name": "XOM",
         "offsetgroup": "XOM",
         "orientation": "v",
         "showlegend": true,
         "textposition": "auto",
         "type": "bar",
         "x": [
          "Max Sharpe",
          "Inverse Vol",
          "Naive"
         ],
         "xaxis": "x",
         "y": [
          0.18653822059602548,
          0.08458335313407592,
          0.05
         ],
         "yaxis": "y"
        },
        {
         "alignmentgroup": "True",
         "hovertemplate": "asset=PG<br>index=%{x}<br>value=%{y}<extra></extra>",
         "legendgroup": "PG",
         "marker": {
          "color": "#EF553B",
          "pattern": {
           "shape": ""
          }
         },
         "name": "PG",
         "offsetgroup": "PG",
         "orientation": "v",
         "showlegend": true,
         "textposition": "auto",
         "type": "bar",
         "x": [
          "Max Sharpe",
          "Inverse Vol",
          "Naive"
         ],
         "xaxis": "x",
         "y": [
          0.17552831699434993,
          0.06722755806289853,
          0.05
         ],
         "yaxis": "y"
        },
        {
         "alignmentgroup": "True",
         "hovertemplate": "asset=UNH<br>index=%{x}<br>value=%{y}<extra></extra>",
         "legendgroup": "UNH",
         "marker": {
          "color": "#00cc96",
          "pattern": {
           "shape": ""
          }
         },
         "name": "UNH",
         "offsetgroup": "UNH",
         "orientation": "v",
         "showlegend": true,
         "textposition": "auto",
         "type": "bar",
         "x": [
          "Max Sharpe",
          "Inverse Vol",
          "Naive"
         ],
         "xaxis": "x",
         "y": [
          0.11055300027506426,
          0.04082515364042011,
          0.05
         ],
         "yaxis": "y"
        },
        {
         "alignmentgroup": "True",
         "hovertemplate": "asset=BBY<br>index=%{x}<br>value=%{y}<extra></extra>",
         "legendgroup": "BBY",
         "marker": {
          "color": "#ab63fa",
          "pattern": {
           "shape": ""
          }
         },
         "name": "BBY",
         "offsetgroup": "BBY",
         "orientation": "v",
         "showlegend": true,
         "textposition": "auto",
         "type": "bar",
         "x": [
          "Max Sharpe",
          "Inverse Vol",
          "Naive"
         ],
         "xaxis": "x",
         "y": [
          0.07438920239167625,
          0.02264698177482263,
          0.05
         ],
         "yaxis": "y"
        },
        {
         "alignmentgroup": "True",
         "hovertemplate": "asset=HD<br>index=%{x}<br>value=%{y}<extra></extra>",
         "legendgroup": "HD",
         "marker": {
          "color": "#FFA15A",
          "pattern": {
           "shape": ""
          }
         },
         "name": "HD",
         "offsetgroup": "HD",
         "orientation": "v",
         "showlegend": true,
         "textposition": "auto",
         "type": "bar",
         "x": [
          "Max Sharpe",
          "Inverse Vol",
          "Naive"
         ],
         "xaxis": "x",
         "y": [
          0.07391977720685192,
          0.04886095065108424,
          0.05
         ],
         "yaxis": "y"
        },
        {
         "alignmentgroup": "True",
         "hovertemplate": "asset=AAPL<br>index=%{x}<br>value=%{y}<extra></extra>",
         "legendgroup": "AAPL",
         "marker": {
          "color": "#19d3f3",
          "pattern": {
           "shape": ""
          }
         },
         "name": "AAPL",
         "offsetgroup": "AAPL",
         "orientation": "v",
         "showlegend": true,
         "textposition": "auto",
         "type": "bar",
         "x": [
          "Max Sharpe",
          "Inverse Vol",
          "Naive"
         ],
         "xaxis": "x",
         "y": [
          0.06817169315340273,
          0.029268771327351995,
          0.05
         ],
         "yaxis": "y"
        },
        {
         "alignmentgroup": "True",
         "hovertemplate": "asset=WMT<br>index=%{x}<br>value=%{y}<extra></extra>",
         "legendgroup": "WMT",
         "marker": {
          "color": "#FF6692",
          "pattern": {
           "shape": ""
          }
         },
         "name": "WMT",
         "offsetgroup": "WMT",
         "orientation": "v",
         "showlegend": true,
         "textposition": "auto",
         "type": "bar",
         "x": [
          "Max Sharpe",
          "Inverse Vol",
          "Naive"
         ],
         "xaxis": "x",
         "y": [
          0.06480711429855737,
          0.059707148800778195,
          0.05
         ],
         "yaxis": "y"
        },
        {
         "alignmentgroup": "True",
         "hovertemplate": "asset=RRC<br>index=%{x}<br>value=%{y}<extra></extra>",
         "legendgroup": "RRC",
         "marker": {
          "color": "#B6E880",
          "pattern": {
           "shape": ""
          }
         },
         "name": "RRC",
         "offsetgroup": "RRC",
         "orientation": "v",
         "showlegend": true,
         "textposition": "auto",
         "type": "bar",
         "x": [
          "Max Sharpe",
          "Inverse Vol",
          "Naive"
         ],
         "xaxis": "x",
         "y": [
          0.04965403152415242,
          0.02566855424731932,
          0.05
         ],
         "yaxis": "y"
        },
        {
         "alignmentgroup": "True",
         "hovertemplate": "asset=CVX<br>index=%{x}<br>value=%{y}<extra></extra>",
         "legendgroup": "CVX",
         "marker": {
          "color": "#FF97FF",
          "pattern": {
           "shape": ""
          }
         },
         "name": "CVX",
         "offsetgroup": "CVX",
         "orientation": "v",
         "showlegend": true,
         "textposition": "auto",
         "type": "bar",
         "x": [
          "Max Sharpe",
          "Inverse Vol",
          "Naive"
         ],
         "xaxis": "x",
         "y": [
          0.048985852661145156,
          0.07035863810986781,
          0.05
         ],
         "yaxis": "y"
        },
        {
         "alignmentgroup": "True",
         "hovertemplate": "asset=JNJ<br>index=%{x}<br>value=%{y}<extra></extra>",
         "legendgroup": "JNJ",
         "marker": {
          "color": "#FECB52",
          "pattern": {
           "shape": ""
          }
         },
         "name": "JNJ",
         "offsetgroup": "JNJ",
         "orientation": "v",
         "showlegend": true,
         "textposition": "auto",
         "type": "bar",
         "x": [
          "Max Sharpe",
          "Inverse Vol",
          "Naive"
         ],
         "xaxis": "x",
         "y": [
          0.04454941272551039,
          0.06845916303348695,
          0.05
         ],
         "yaxis": "y"
        },
        {
         "alignmentgroup": "True",
         "hovertemplate": "asset=PFE<br>index=%{x}<br>value=%{y}<extra></extra>",
         "legendgroup": "PFE",
         "marker": {
          "color": "#636efa",
          "pattern": {
           "shape": ""
          }
         },
         "name": "PFE",
         "offsetgroup": "PFE",
         "orientation": "v",
         "showlegend": true,
         "textposition": "auto",
         "type": "bar",
         "x": [
          "Max Sharpe",
          "Inverse Vol",
          "Naive"
         ],
         "xaxis": "x",
         "y": [
          0.038348088207576306,
          0.0570648431635107,
          0.05
         ],
         "yaxis": "y"
        },
        {
         "alignmentgroup": "True",
         "hovertemplate": "asset=MSFT<br>index=%{x}<br>value=%{y}<extra></extra>",
         "legendgroup": "MSFT",
         "marker": {
          "color": "#EF553B",
          "pattern": {
           "shape": ""
          }
         },
         "name": "MSFT",
         "offsetgroup": "MSFT",
         "orientation": "v",
         "showlegend": true,
         "textposition": "auto",
         "type": "bar",
         "x": [
          "Max Sharpe",
          "Inverse Vol",
          "Naive"
         ],
         "xaxis": "x",
         "y": [
          0.03427277489588965,
          0.0415593878481255,
          0.05
         ],
         "yaxis": "y"
        },
        {
         "alignmentgroup": "True",
         "hovertemplate": "asset=KO<br>index=%{x}<br>value=%{y}<extra></extra>",
         "legendgroup": "KO",
         "marker": {
          "color": "#00cc96",
          "pattern": {
           "shape": ""
          }
         },
         "name": "KO",
         "offsetgroup": "KO",
         "orientation": "v",
         "showlegend": true,
         "textposition": "auto",
         "type": "bar",
         "x": [
          "Max Sharpe",
          "Inverse Vol",
          "Naive"
         ],
         "xaxis": "x",
         "y": [
          0.026376287105305728,
          0.06450684707996232,
          0.05
         ],
         "yaxis": "y"
        },
        {
         "alignmentgroup": "True",
         "hovertemplate": "asset=LLY<br>index=%{x}<br>value=%{y}<extra></extra>",
         "legendgroup": "LLY",
         "marker": {
          "color": "#ab63fa",
          "pattern": {
           "shape": ""
          }
         },
         "name": "LLY",
         "offsetgroup": "LLY",
         "orientation": "v",
         "showlegend": true,
         "textposition": "auto",
         "type": "bar",
         "x": [
          "Max Sharpe",
          "Inverse Vol",
          "Naive"
         ],
         "xaxis": "x",
         "y": [
          0.0039037298557517176,
          0.051771011344880324,
          0.05
         ],
         "yaxis": "y"
        },
        {
         "alignmentgroup": "True",
         "hovertemplate": "asset=PEP<br>index=%{x}<br>value=%{y}<extra></extra>",
         "legendgroup": "PEP",
         "marker": {
          "color": "#FFA15A",
          "pattern": {
           "shape": ""
          }
         },
         "name": "PEP",
         "offsetgroup": "PEP",
         "orientation": "v",
         "showlegend": true,
         "textposition": "auto",
         "type": "bar",
         "x": [
          "Max Sharpe",
          "Inverse Vol",
          "Naive"
         ],
         "xaxis": "x",
         "y": [
          0,
          0.06681326598927713,
          0.05
         ],
         "yaxis": "y"
        },
        {
         "alignmentgroup": "True",
         "hovertemplate": "asset=GE<br>index=%{x}<br>value=%{y}<extra></extra>",
         "legendgroup": "GE",
         "marker": {
          "color": "#19d3f3",
          "pattern": {
           "shape": ""
          }
         },
         "name": "GE",
         "offsetgroup": "GE",
         "orientation": "v",
         "showlegend": true,
         "textposition": "auto",
         "type": "bar",
         "x": [
          "Max Sharpe",
          "Inverse Vol",
          "Naive"
         ],
         "xaxis": "x",
         "y": [
          0,
          0.053834348570130926,
          0.05
         ],
         "yaxis": "y"
        },
        {
         "alignmentgroup": "True",
         "hovertemplate": "asset=MRK<br>index=%{x}<br>value=%{y}<extra></extra>",
         "legendgroup": "MRK",
         "marker": {
          "color": "#FF6692",
          "pattern": {
           "shape": ""
          }
         },
         "name": "MRK",
         "offsetgroup": "MRK",
         "orientation": "v",
         "showlegend": true,
         "textposition": "auto",
         "type": "bar",
         "x": [
          "Max Sharpe",
          "Inverse Vol",
          "Naive"
         ],
         "xaxis": "x",
         "y": [
          0,
          0.05253097506730929,
          0.05
         ],
         "yaxis": "y"
        },
        {
         "alignmentgroup": "True",
         "hovertemplate": "asset=JPM<br>index=%{x}<br>value=%{y}<extra></extra>",
         "legendgroup": "JPM",
         "marker": {
          "color": "#B6E880",
          "pattern": {
           "shape": ""
          }
         },
         "name": "JPM",
         "offsetgroup": "JPM",
         "orientation": "v",
         "showlegend": true,
         "textposition": "auto",
         "type": "bar",
         "x": [
          "Max Sharpe",
          "Inverse Vol",
          "Naive"
         ],
         "xaxis": "x",
         "y": [
          0,
          0.039549235439007305,
          0.05
         ],
         "yaxis": "y"
        },
        {
         "alignmentgroup": "True",
         "hovertemplate": "asset=BAC<br>index=%{x}<br>value=%{y}<extra></extra>",
         "legendgroup": "BAC",
         "marker": {
          "color": "#FF97FF",
          "pattern": {
           "shape": ""
          }
         },
         "name": "BAC",
         "offsetgroup": "BAC",
         "orientation": "v",
         "showlegend": true,
         "textposition": "auto",
         "type": "bar",
         "x": [
          "Max Sharpe",
          "Inverse Vol",
          "Naive"
         ],
         "xaxis": "x",
         "y": [
          0,
          0.03430406089390026,
          0.05
         ],
         "yaxis": "y"
        },
        {
         "alignmentgroup": "True",
         "hovertemplate": "asset=AMD<br>index=%{x}<br>value=%{y}<extra></extra>",
         "legendgroup": "AMD",
         "marker": {
          "color": "#FECB52",
          "pattern": {
           "shape": ""
          }
         },
         "name": "AMD",
         "offsetgroup": "AMD",
         "orientation": "v",
         "showlegend": true,
         "textposition": "auto",
         "type": "bar",
         "x": [
          "Max Sharpe",
          "Inverse Vol",
          "Naive"
         ],
         "xaxis": "x",
         "y": [
          0,
          0.02045975182179051,
          0.05
         ],
         "yaxis": "y"
        }
       ],
       "layout": {
        "barmode": "relative",
        "legend": {
         "title": {
          "text": "asset"
         },
         "tracegroupgap": 0,
         "x": 1.15,
         "xanchor": "left",
         "y": 0.99,
         "yanchor": "top"
        },
        "margin": {
         "t": 60
        },
        "template": {
         "data": {
          "bar": [
           {
            "error_x": {
             "color": "#2a3f5f"
            },
            "error_y": {
             "color": "#2a3f5f"
            },
            "marker": {
             "line": {
              "color": "#E5ECF6",
              "width": 0.5
             },
             "pattern": {
              "fillmode": "overlay",
              "size": 10,
              "solidity": 0.2
             }
            },
            "type": "bar"
           }
          ],
          "barpolar": [
           {
            "marker": {
             "line": {
              "color": "#E5ECF6",
              "width": 0.5
             },
             "pattern": {
              "fillmode": "overlay",
              "size": 10,
              "solidity": 0.2
             }
            },
            "type": "barpolar"
           }
          ],
          "carpet": [
           {
            "aaxis": {
             "endlinecolor": "#2a3f5f",
             "gridcolor": "white",
             "linecolor": "white",
             "minorgridcolor": "white",
             "startlinecolor": "#2a3f5f"
            },
            "baxis": {
             "endlinecolor": "#2a3f5f",
             "gridcolor": "white",
             "linecolor": "white",
             "minorgridcolor": "white",
             "startlinecolor": "#2a3f5f"
            },
            "type": "carpet"
           }
          ],
          "choropleth": [
           {
            "colorbar": {
             "outlinewidth": 0,
             "ticks": ""
            },
            "type": "choropleth"
           }
          ],
          "contour": [
           {
            "colorbar": {
             "outlinewidth": 0,
             "ticks": ""
            },
            "colorscale": [
             [
              0,
              "#0d0887"
             ],
             [
              0.1111111111111111,
              "#46039f"
             ],
             [
              0.2222222222222222,
              "#7201a8"
             ],
             [
              0.3333333333333333,
              "#9c179e"
             ],
             [
              0.4444444444444444,
              "#bd3786"
             ],
             [
              0.5555555555555556,
              "#d8576b"
             ],
             [
              0.6666666666666666,
              "#ed7953"
             ],
             [
              0.7777777777777778,
              "#fb9f3a"
             ],
             [
              0.8888888888888888,
              "#fdca26"
             ],
             [
              1,
              "#f0f921"
             ]
            ],
            "type": "contour"
           }
          ],
          "contourcarpet": [
           {
            "colorbar": {
             "outlinewidth": 0,
             "ticks": ""
            },
            "type": "contourcarpet"
           }
          ],
          "heatmap": [
           {
            "colorbar": {
             "outlinewidth": 0,
             "ticks": ""
            },
            "colorscale": [
             [
              0,
              "#0d0887"
             ],
             [
              0.1111111111111111,
              "#46039f"
             ],
             [
              0.2222222222222222,
              "#7201a8"
             ],
             [
              0.3333333333333333,
              "#9c179e"
             ],
             [
              0.4444444444444444,
              "#bd3786"
             ],
             [
              0.5555555555555556,
              "#d8576b"
             ],
             [
              0.6666666666666666,
              "#ed7953"
             ],
             [
              0.7777777777777778,
              "#fb9f3a"
             ],
             [
              0.8888888888888888,
              "#fdca26"
             ],
             [
              1,
              "#f0f921"
             ]
            ],
            "type": "heatmap"
           }
          ],
          "heatmapgl": [
           {
            "colorbar": {
             "outlinewidth": 0,
             "ticks": ""
            },
            "colorscale": [
             [
              0,
              "#0d0887"
             ],
             [
              0.1111111111111111,
              "#46039f"
             ],
             [
              0.2222222222222222,
              "#7201a8"
             ],
             [
              0.3333333333333333,
              "#9c179e"
             ],
             [
              0.4444444444444444,
              "#bd3786"
             ],
             [
              0.5555555555555556,
              "#d8576b"
             ],
             [
              0.6666666666666666,
              "#ed7953"
             ],
             [
              0.7777777777777778,
              "#fb9f3a"
             ],
             [
              0.8888888888888888,
              "#fdca26"
             ],
             [
              1,
              "#f0f921"
             ]
            ],
            "type": "heatmapgl"
           }
          ],
          "histogram": [
           {
            "marker": {
             "pattern": {
              "fillmode": "overlay",
              "size": 10,
              "solidity": 0.2
             }
            },
            "type": "histogram"
           }
          ],
          "histogram2d": [
           {
            "colorbar": {
             "outlinewidth": 0,
             "ticks": ""
            },
            "colorscale": [
             [
              0,
              "#0d0887"
             ],
             [
              0.1111111111111111,
              "#46039f"
             ],
             [
              0.2222222222222222,
              "#7201a8"
             ],
             [
              0.3333333333333333,
              "#9c179e"
             ],
             [
              0.4444444444444444,
              "#bd3786"
             ],
             [
              0.5555555555555556,
              "#d8576b"
             ],
             [
              0.6666666666666666,
              "#ed7953"
             ],
             [
              0.7777777777777778,
              "#fb9f3a"
             ],
             [
              0.8888888888888888,
              "#fdca26"
             ],
             [
              1,
              "#f0f921"
             ]
            ],
            "type": "histogram2d"
           }
          ],
          "histogram2dcontour": [
           {
            "colorbar": {
             "outlinewidth": 0,
             "ticks": ""
            },
            "colorscale": [
             [
              0,
              "#0d0887"
             ],
             [
              0.1111111111111111,
              "#46039f"
             ],
             [
              0.2222222222222222,
              "#7201a8"
             ],
             [
              0.3333333333333333,
              "#9c179e"
             ],
             [
              0.4444444444444444,
              "#bd3786"
             ],
             [
              0.5555555555555556,
              "#d8576b"
             ],
             [
              0.6666666666666666,
              "#ed7953"
             ],
             [
              0.7777777777777778,
              "#fb9f3a"
             ],
             [
              0.8888888888888888,
              "#fdca26"
             ],
             [
              1,
              "#f0f921"
             ]
            ],
            "type": "histogram2dcontour"
           }
          ],
          "mesh3d": [
           {
            "colorbar": {
             "outlinewidth": 0,
             "ticks": ""
            },
            "type": "mesh3d"
           }
          ],
          "parcoords": [
           {
            "line": {
             "colorbar": {
              "outlinewidth": 0,
              "ticks": ""
             }
            },
            "type": "parcoords"
           }
          ],
          "pie": [
           {
            "automargin": true,
            "type": "pie"
           }
          ],
          "scatter": [
           {
            "fillpattern": {
             "fillmode": "overlay",
             "size": 10,
             "solidity": 0.2
            },
            "type": "scatter"
           }
          ],
          "scatter3d": [
           {
            "line": {
             "colorbar": {
              "outlinewidth": 0,
              "ticks": ""
             }
            },
            "marker": {
             "colorbar": {
              "outlinewidth": 0,
              "ticks": ""
             }
            },
            "type": "scatter3d"
           }
          ],
          "scattercarpet": [
           {
            "marker": {
             "colorbar": {
              "outlinewidth": 0,
              "ticks": ""
             }
            },
            "type": "scattercarpet"
           }
          ],
          "scattergeo": [
           {
            "marker": {
             "colorbar": {
              "outlinewidth": 0,
              "ticks": ""
             }
            },
            "type": "scattergeo"
           }
          ],
          "scattergl": [
           {
            "marker": {
             "colorbar": {
              "outlinewidth": 0,
              "ticks": ""
             }
            },
            "type": "scattergl"
           }
          ],
          "scattermapbox": [
           {
            "marker": {
             "colorbar": {
              "outlinewidth": 0,
              "ticks": ""
             }
            },
            "type": "scattermapbox"
           }
          ],
          "scatterpolar": [
           {
            "marker": {
             "colorbar": {
              "outlinewidth": 0,
              "ticks": ""
             }
            },
            "type": "scatterpolar"
           }
          ],
          "scatterpolargl": [
           {
            "marker": {
             "colorbar": {
              "outlinewidth": 0,
              "ticks": ""
             }
            },
            "type": "scatterpolargl"
           }
          ],
          "scatterternary": [
           {
            "marker": {
             "colorbar": {
              "outlinewidth": 0,
              "ticks": ""
             }
            },
            "type": "scatterternary"
           }
          ],
          "surface": [
           {
            "colorbar": {
             "outlinewidth": 0,
             "ticks": ""
            },
            "colorscale": [
             [
              0,
              "#0d0887"
             ],
             [
              0.1111111111111111,
              "#46039f"
             ],
             [
              0.2222222222222222,
              "#7201a8"
             ],
             [
              0.3333333333333333,
              "#9c179e"
             ],
             [
              0.4444444444444444,
              "#bd3786"
             ],
             [
              0.5555555555555556,
              "#d8576b"
             ],
             [
              0.6666666666666666,
              "#ed7953"
             ],
             [
              0.7777777777777778,
              "#fb9f3a"
             ],
             [
              0.8888888888888888,
              "#fdca26"
             ],
             [
              1,
              "#f0f921"
             ]
            ],
            "type": "surface"
           }
          ],
          "table": [
           {
            "cells": {
             "fill": {
              "color": "#EBF0F8"
             },
             "line": {
              "color": "white"
             }
            },
            "header": {
             "fill": {
              "color": "#C8D4E3"
             },
             "line": {
              "color": "white"
             }
            },
            "type": "table"
           }
          ]
         },
         "layout": {
          "annotationdefaults": {
           "arrowcolor": "#2a3f5f",
           "arrowhead": 0,
           "arrowwidth": 1
          },
          "autotypenumbers": "strict",
          "coloraxis": {
           "colorbar": {
            "outlinewidth": 0,
            "ticks": ""
           }
          },
          "colorscale": {
           "diverging": [
            [
             0,
             "#8e0152"
            ],
            [
             0.1,
             "#c51b7d"
            ],
            [
             0.2,
             "#de77ae"
            ],
            [
             0.3,
             "#f1b6da"
            ],
            [
             0.4,
             "#fde0ef"
            ],
            [
             0.5,
             "#f7f7f7"
            ],
            [
             0.6,
             "#e6f5d0"
            ],
            [
             0.7,
             "#b8e186"
            ],
            [
             0.8,
             "#7fbc41"
            ],
            [
             0.9,
             "#4d9221"
            ],
            [
             1,
             "#276419"
            ]
           ],
           "sequential": [
            [
             0,
             "#0d0887"
            ],
            [
             0.1111111111111111,
             "#46039f"
            ],
            [
             0.2222222222222222,
             "#7201a8"
            ],
            [
             0.3333333333333333,
             "#9c179e"
            ],
            [
             0.4444444444444444,
             "#bd3786"
            ],
            [
             0.5555555555555556,
             "#d8576b"
            ],
            [
             0.6666666666666666,
             "#ed7953"
            ],
            [
             0.7777777777777778,
             "#fb9f3a"
            ],
            [
             0.8888888888888888,
             "#fdca26"
            ],
            [
             1,
             "#f0f921"
            ]
           ],
           "sequentialminus": [
            [
             0,
             "#0d0887"
            ],
            [
             0.1111111111111111,
             "#46039f"
            ],
            [
             0.2222222222222222,
             "#7201a8"
            ],
            [
             0.3333333333333333,
             "#9c179e"
            ],
            [
             0.4444444444444444,
             "#bd3786"
            ],
            [
             0.5555555555555556,
             "#d8576b"
            ],
            [
             0.6666666666666666,
             "#ed7953"
            ],
            [
             0.7777777777777778,
             "#fb9f3a"
            ],
            [
             0.8888888888888888,
             "#fdca26"
            ],
            [
             1,
             "#f0f921"
            ]
           ]
          },
          "colorway": [
           "#636efa",
           "#EF553B",
           "#00cc96",
           "#ab63fa",
           "#FFA15A",
           "#19d3f3",
           "#FF6692",
           "#B6E880",
           "#FF97FF",
           "#FECB52"
          ],
          "font": {
           "color": "#2a3f5f"
          },
          "geo": {
           "bgcolor": "white",
           "lakecolor": "white",
           "landcolor": "#E5ECF6",
           "showlakes": true,
           "showland": true,
           "subunitcolor": "white"
          },
          "hoverlabel": {
           "align": "left"
          },
          "hovermode": "closest",
          "mapbox": {
           "style": "light"
          },
          "paper_bgcolor": "white",
          "plot_bgcolor": "#E5ECF6",
          "polar": {
           "angularaxis": {
            "gridcolor": "white",
            "linecolor": "white",
            "ticks": ""
           },
           "bgcolor": "#E5ECF6",
           "radialaxis": {
            "gridcolor": "white",
            "linecolor": "white",
            "ticks": ""
           }
          },
          "scene": {
           "xaxis": {
            "backgroundcolor": "#E5ECF6",
            "gridcolor": "white",
            "gridwidth": 2,
            "linecolor": "white",
            "showbackground": true,
            "ticks": "",
            "zerolinecolor": "white"
           },
           "yaxis": {
            "backgroundcolor": "#E5ECF6",
            "gridcolor": "white",
            "gridwidth": 2,
            "linecolor": "white",
            "showbackground": true,
            "ticks": "",
            "zerolinecolor": "white"
           },
           "zaxis": {
            "backgroundcolor": "#E5ECF6",
            "gridcolor": "white",
            "gridwidth": 2,
            "linecolor": "white",
            "showbackground": true,
            "ticks": "",
            "zerolinecolor": "white"
           }
          },
          "shapedefaults": {
           "line": {
            "color": "#2a3f5f"
           }
          },
          "ternary": {
           "aaxis": {
            "gridcolor": "white",
            "linecolor": "white",
            "ticks": ""
           },
           "baxis": {
            "gridcolor": "white",
            "linecolor": "white",
            "ticks": ""
           },
           "bgcolor": "#E5ECF6",
           "caxis": {
            "gridcolor": "white",
            "linecolor": "white",
            "ticks": ""
           }
          },
          "title": {
           "x": 0.05
          },
          "xaxis": {
           "automargin": true,
           "gridcolor": "white",
           "linecolor": "white",
           "ticks": "",
           "title": {
            "standoff": 15
           },
           "zerolinecolor": "white",
           "zerolinewidth": 2
          },
          "yaxis": {
           "automargin": true,
           "gridcolor": "white",
           "linecolor": "white",
           "ticks": "",
           "title": {
            "standoff": 15
           },
           "zerolinecolor": "white",
           "zerolinewidth": 2
          }
         }
        },
        "title": {
         "text": "Portfolios Composition"
        },
        "xaxis": {
         "anchor": "y",
         "domain": [
          0,
          1
         ],
         "title": {
          "text": "Portfolios"
         }
        },
        "yaxis": {
         "anchor": "x",
         "domain": [
          0,
          1
         ],
         "tickformat": ",.0%",
         "title": {
          "text": "Weight"
         }
        }
       }
      }
     },
     "metadata": {},
     "output_type": "display_data"
    }
   ],
   "source": [
    "population = Population([pred_model, pred_bench, pred_naive])\n",
    "population.plot_composition()"
   ]
  },
  {
   "cell_type": "code",
   "execution_count": 25,
   "metadata": {},
   "outputs": [
    {
     "data": {
      "application/vnd.plotly.v1+json": {
       "config": {
        "plotlyServerURL": "https://plot.ly"
       },
       "data": [
        {
         "hovertemplate": "variable=Max Sharpe<br>index=%{x}<br>value=%{y}<extra></extra>",
         "legendgroup": "Max Sharpe",
         "line": {
          "color": "#636efa",
          "dash": "solid"
         },
         "marker": {
          "symbol": "circle"
         },
         "mode": "lines",
         "name": "Max Sharpe",
         "orientation": "v",
         "showlegend": true,
         "type": "scatter",
         "x": [
          "2013-02-28T00:00:00",
          "2013-03-31T00:00:00",
          "2013-04-30T00:00:00",
          "2013-05-31T00:00:00",
          "2013-06-30T00:00:00",
          "2013-07-31T00:00:00",
          "2013-08-31T00:00:00",
          "2013-09-30T00:00:00",
          "2013-10-31T00:00:00",
          "2013-11-30T00:00:00",
          "2013-12-31T00:00:00",
          "2014-01-31T00:00:00",
          "2014-02-28T00:00:00",
          "2014-03-31T00:00:00",
          "2014-04-30T00:00:00",
          "2014-05-31T00:00:00",
          "2014-06-30T00:00:00",
          "2014-07-31T00:00:00",
          "2014-08-31T00:00:00",
          "2014-09-30T00:00:00",
          "2014-10-31T00:00:00",
          "2014-11-30T00:00:00",
          "2014-12-31T00:00:00",
          "2015-01-31T00:00:00",
          "2015-02-28T00:00:00",
          "2015-03-31T00:00:00",
          "2015-04-30T00:00:00",
          "2015-05-31T00:00:00",
          "2015-06-30T00:00:00",
          "2015-07-31T00:00:00",
          "2015-08-31T00:00:00",
          "2015-09-30T00:00:00",
          "2015-10-31T00:00:00",
          "2015-11-30T00:00:00",
          "2015-12-31T00:00:00",
          "2016-01-31T00:00:00",
          "2016-02-29T00:00:00",
          "2016-03-31T00:00:00",
          "2016-04-30T00:00:00",
          "2016-05-31T00:00:00",
          "2016-06-30T00:00:00",
          "2016-07-31T00:00:00",
          "2016-08-31T00:00:00",
          "2016-09-30T00:00:00",
          "2016-10-31T00:00:00",
          "2016-11-30T00:00:00",
          "2016-12-31T00:00:00",
          "2017-01-31T00:00:00",
          "2017-02-28T00:00:00",
          "2017-03-31T00:00:00",
          "2017-04-30T00:00:00",
          "2017-05-31T00:00:00",
          "2017-06-30T00:00:00",
          "2017-07-31T00:00:00",
          "2017-08-31T00:00:00",
          "2017-09-30T00:00:00",
          "2017-10-31T00:00:00",
          "2017-11-30T00:00:00",
          "2017-12-31T00:00:00",
          "2018-01-31T00:00:00",
          "2018-02-28T00:00:00",
          "2018-03-31T00:00:00",
          "2018-04-30T00:00:00",
          "2018-05-31T00:00:00",
          "2018-06-30T00:00:00",
          "2018-07-31T00:00:00",
          "2018-08-31T00:00:00",
          "2018-09-30T00:00:00",
          "2018-10-31T00:00:00",
          "2018-11-30T00:00:00",
          "2018-12-31T00:00:00",
          "2019-01-31T00:00:00",
          "2019-02-28T00:00:00",
          "2019-03-31T00:00:00",
          "2019-04-30T00:00:00",
          "2019-05-31T00:00:00",
          "2019-06-30T00:00:00",
          "2019-07-31T00:00:00",
          "2019-08-31T00:00:00",
          "2019-09-30T00:00:00",
          "2019-10-31T00:00:00",
          "2019-11-30T00:00:00",
          "2019-12-31T00:00:00",
          "2020-01-31T00:00:00",
          "2020-02-29T00:00:00",
          "2020-03-31T00:00:00",
          "2020-04-30T00:00:00",
          "2020-05-31T00:00:00",
          "2020-06-30T00:00:00",
          "2020-07-31T00:00:00",
          "2020-08-31T00:00:00",
          "2020-09-30T00:00:00",
          "2020-10-31T00:00:00",
          "2020-11-30T00:00:00",
          "2020-12-31T00:00:00",
          "2021-01-31T00:00:00",
          "2021-02-28T00:00:00",
          "2021-03-31T00:00:00",
          "2021-04-30T00:00:00",
          "2021-05-31T00:00:00",
          "2021-06-30T00:00:00",
          "2021-07-31T00:00:00",
          "2021-08-31T00:00:00",
          "2021-09-30T00:00:00",
          "2021-10-31T00:00:00",
          "2021-11-30T00:00:00",
          "2021-12-31T00:00:00",
          "2022-01-31T00:00:00",
          "2022-02-28T00:00:00",
          "2022-03-31T00:00:00",
          "2022-04-30T00:00:00",
          "2022-05-31T00:00:00",
          "2022-06-30T00:00:00",
          "2022-07-31T00:00:00",
          "2022-08-31T00:00:00",
          "2022-09-30T00:00:00",
          "2022-10-31T00:00:00",
          "2022-11-30T00:00:00",
          "2022-12-31T00:00:00"
         ],
         "xaxis": "x",
         "y": [
          0.012700572021429594,
          0.06830996993992527,
          0.09659642184219148,
          0.11529057531245983,
          0.11312498783165681,
          0.17098654637824345,
          0.15629823288883585,
          0.1552321209907951,
          0.20103527956842937,
          0.2443088533990317,
          0.25824188816363697,
          0.1745026361220432,
          0.2232477969061931,
          0.24405122103091903,
          0.2665151119858943,
          0.27662010127636993,
          0.28994416572754145,
          0.27119058207960195,
          0.32785813551658605,
          0.3144511559239011,
          0.35209383572211583,
          0.38102210611899034,
          0.3760504961375757,
          0.33791283405346223,
          0.3866474997923563,
          0.3724877307945368,
          0.3729569611829532,
          0.3717832287658489,
          0.34625022384029747,
          0.32989217891890016,
          0.28837774602368543,
          0.28028206880445916,
          0.333960904387272,
          0.3245774231488211,
          0.31830968494607315,
          0.31898699382577944,
          0.32432424875656946,
          0.39689966811566446,
          0.4181043884484845,
          0.4372581251356189,
          0.46160250114338214,
          0.4782559588080912,
          0.4778020774427935,
          0.48845805715764096,
          0.4649680145056855,
          0.501579666758766,
          0.5189353571407297,
          0.516604431983132,
          0.5395141975634585,
          0.5566349323882325,
          0.5672281538261157,
          0.5819011050523278,
          0.5817259548484845,
          0.5981662195891151,
          0.5929809062448899,
          0.6219821654788595,
          0.6419966300801183,
          0.6853730865430467,
          0.7026056182910984,
          0.7203819480935196,
          0.6496818243803187,
          0.639082032223278,
          0.6568274284381529,
          0.6768903846787268,
          0.7121873533512151,
          0.7358778130507303,
          0.7756088903262458,
          0.7963174586878243,
          0.7691949097676889,
          0.7821384870355648,
          0.6778409743560954,
          0.7431668102531823,
          0.7750611188736136,
          0.8113499803161937,
          0.8169481852655485,
          0.7570857643996808,
          0.8244886404823855,
          0.8351563299041884,
          0.7914288297534171,
          0.8171498280315688,
          0.8454336655567226,
          0.8674759299948157,
          0.9231632497455516,
          0.8766413397526386,
          0.7789670081437715,
          0.6676801110130706,
          0.9061193391014182,
          0.9291496872315298,
          0.9375645826962861,
          0.9937467916015774,
          1.0497708002136164,
          1.0000399008377816,
          0.9703484154396262,
          1.0669180596416958,
          1.0837384201995812,
          1.1073537982282646,
          1.1330911042677263,
          1.2107494688560276,
          1.2362559130448783,
          1.2680750833455048,
          1.301402155809081,
          1.3081108422189345,
          1.3118196272868459,
          1.322600221035518,
          1.412698495925109,
          1.3970407600344537,
          1.4562429555301033,
          1.4828420217922347,
          1.4769529885913355,
          1.526837570659237,
          1.5310996095148413,
          1.5359959071210447,
          1.4604194710465235,
          1.550463346612608,
          1.5211431039468635,
          1.4453976934097443,
          1.571270790204236,
          1.6310524456183484,
          1.5940960632963284
         ],
         "yaxis": "y"
        },
        {
         "hovertemplate": "variable=Inverse Vol<br>index=%{x}<br>value=%{y}<extra></extra>",
         "legendgroup": "Inverse Vol",
         "line": {
          "color": "#EF553B",
          "dash": "solid"
         },
         "marker": {
          "symbol": "circle"
         },
         "mode": "lines",
         "name": "Inverse Vol",
         "orientation": "v",
         "showlegend": true,
         "type": "scatter",
         "x": [
          "2013-02-28T00:00:00",
          "2013-03-31T00:00:00",
          "2013-04-30T00:00:00",
          "2013-05-31T00:00:00",
          "2013-06-30T00:00:00",
          "2013-07-31T00:00:00",
          "2013-08-31T00:00:00",
          "2013-09-30T00:00:00",
          "2013-10-31T00:00:00",
          "2013-11-30T00:00:00",
          "2013-12-31T00:00:00",
          "2014-01-31T00:00:00",
          "2014-02-28T00:00:00",
          "2014-03-31T00:00:00",
          "2014-04-30T00:00:00",
          "2014-05-31T00:00:00",
          "2014-06-30T00:00:00",
          "2014-07-31T00:00:00",
          "2014-08-31T00:00:00",
          "2014-09-30T00:00:00",
          "2014-10-31T00:00:00",
          "2014-11-30T00:00:00",
          "2014-12-31T00:00:00",
          "2015-01-31T00:00:00",
          "2015-02-28T00:00:00",
          "2015-03-31T00:00:00",
          "2015-04-30T00:00:00",
          "2015-05-31T00:00:00",
          "2015-06-30T00:00:00",
          "2015-07-31T00:00:00",
          "2015-08-31T00:00:00",
          "2015-09-30T00:00:00",
          "2015-10-31T00:00:00",
          "2015-11-30T00:00:00",
          "2015-12-31T00:00:00",
          "2016-01-31T00:00:00",
          "2016-02-29T00:00:00",
          "2016-03-31T00:00:00",
          "2016-04-30T00:00:00",
          "2016-05-31T00:00:00",
          "2016-06-30T00:00:00",
          "2016-07-31T00:00:00",
          "2016-08-31T00:00:00",
          "2016-09-30T00:00:00",
          "2016-10-31T00:00:00",
          "2016-11-30T00:00:00",
          "2016-12-31T00:00:00",
          "2017-01-31T00:00:00",
          "2017-02-28T00:00:00",
          "2017-03-31T00:00:00",
          "2017-04-30T00:00:00",
          "2017-05-31T00:00:00",
          "2017-06-30T00:00:00",
          "2017-07-31T00:00:00",
          "2017-08-31T00:00:00",
          "2017-09-30T00:00:00",
          "2017-10-31T00:00:00",
          "2017-11-30T00:00:00",
          "2017-12-31T00:00:00",
          "2018-01-31T00:00:00",
          "2018-02-28T00:00:00",
          "2018-03-31T00:00:00",
          "2018-04-30T00:00:00",
          "2018-05-31T00:00:00",
          "2018-06-30T00:00:00",
          "2018-07-31T00:00:00",
          "2018-08-31T00:00:00",
          "2018-09-30T00:00:00",
          "2018-10-31T00:00:00",
          "2018-11-30T00:00:00",
          "2018-12-31T00:00:00",
          "2019-01-31T00:00:00",
          "2019-02-28T00:00:00",
          "2019-03-31T00:00:00",
          "2019-04-30T00:00:00",
          "2019-05-31T00:00:00",
          "2019-06-30T00:00:00",
          "2019-07-31T00:00:00",
          "2019-08-31T00:00:00",
          "2019-09-30T00:00:00",
          "2019-10-31T00:00:00",
          "2019-11-30T00:00:00",
          "2019-12-31T00:00:00",
          "2020-01-31T00:00:00",
          "2020-02-29T00:00:00",
          "2020-03-31T00:00:00",
          "2020-04-30T00:00:00",
          "2020-05-31T00:00:00",
          "2020-06-30T00:00:00",
          "2020-07-31T00:00:00",
          "2020-08-31T00:00:00",
          "2020-09-30T00:00:00",
          "2020-10-31T00:00:00",
          "2020-11-30T00:00:00",
          "2020-12-31T00:00:00",
          "2021-01-31T00:00:00",
          "2021-02-28T00:00:00",
          "2021-03-31T00:00:00",
          "2021-04-30T00:00:00",
          "2021-05-31T00:00:00",
          "2021-06-30T00:00:00",
          "2021-07-31T00:00:00",
          "2021-08-31T00:00:00",
          "2021-09-30T00:00:00",
          "2021-10-31T00:00:00",
          "2021-11-30T00:00:00",
          "2021-12-31T00:00:00",
          "2022-01-31T00:00:00",
          "2022-02-28T00:00:00",
          "2022-03-31T00:00:00",
          "2022-04-30T00:00:00",
          "2022-05-31T00:00:00",
          "2022-06-30T00:00:00",
          "2022-07-31T00:00:00",
          "2022-08-31T00:00:00",
          "2022-09-30T00:00:00",
          "2022-10-31T00:00:00",
          "2022-11-30T00:00:00",
          "2022-12-31T00:00:00"
         ],
         "xaxis": "x",
         "y": [
          0.019924662905082664,
          0.061775857059767535,
          0.09124207589834281,
          0.11179261042230347,
          0.10590810401077032,
          0.1540299193259293,
          0.11990299097248744,
          0.12706787462988986,
          0.16025831933404688,
          0.20769859352407638,
          0.21899070889873085,
          0.16982509393105566,
          0.2113663433242885,
          0.23738352188365536,
          0.25461663567430814,
          0.25741348251603213,
          0.27473350593601475,
          0.25287721336852426,
          0.30307960977365567,
          0.2961774690465765,
          0.31251988896740335,
          0.3383430168104993,
          0.3270015480776737,
          0.29041056310512015,
          0.3427262315734618,
          0.3228758038838372,
          0.3352871278350743,
          0.3425609518854695,
          0.32149681376161443,
          0.321526938798169,
          0.26837450180962763,
          0.25844988494624177,
          0.3294579862460323,
          0.3356758214073065,
          0.34099614412895063,
          0.31787956029331965,
          0.3032132387094347,
          0.37662128668488937,
          0.4055769252105539,
          0.4275518668763261,
          0.45267260987935404,
          0.47923830216151214,
          0.4807192041867126,
          0.4807998607395562,
          0.46235108209733067,
          0.4968104703844785,
          0.5303692038953468,
          0.5239544556629474,
          0.5709719079659883,
          0.577498783297806,
          0.5790724836635128,
          0.582526695400647,
          0.5935643538585087,
          0.6053193778511947,
          0.5995994982717039,
          0.623749426430655,
          0.6257312914399683,
          0.6564250893702243,
          0.6695949332285204,
          0.6954627504395154,
          0.6242165556497286,
          0.6105944645223856,
          0.6288967836153574,
          0.6437064743988943,
          0.6688809968327575,
          0.7218900398984986,
          0.7498552425815779,
          0.7668440539608885,
          0.7358130432824096,
          0.760918102721116,
          0.6765899412334265,
          0.745468921555846,
          0.7778543993744124,
          0.8024263258142196,
          0.8170698892520689,
          0.7732740464394849,
          0.8361426142108173,
          0.8333159166157624,
          0.8072829373347832,
          0.8281729959234214,
          0.8597359073578251,
          0.8872963790667556,
          0.9368277258048291,
          0.9192808885499432,
          0.8239888863133906,
          0.7217611451582288,
          0.8823954855268727,
          0.8971036188331308,
          0.8924925039689916,
          0.935250093846834,
          0.982728262837422,
          0.9410654919106269,
          0.9136853723887337,
          1.0428959768860597,
          1.0745218273676918,
          1.0839933095911574,
          1.1142058963040304,
          1.1750511222903164,
          1.193411967611563,
          1.229111932564188,
          1.256818563178314,
          1.2724876738163782,
          1.2869490147465172,
          1.276638077433184,
          1.363331579058675,
          1.3475510564481985,
          1.402626702165017,
          1.4073636141010601,
          1.3950973721182307,
          1.4416291362610159,
          1.4238862794294294,
          1.4488856541404347,
          1.3776353671007489,
          1.4498237967008305,
          1.4144358542938937,
          1.3495754369147719,
          1.4804641932718892,
          1.5443301673449086,
          1.508437091156361
         ],
         "yaxis": "y"
        },
        {
         "hovertemplate": "variable=Naive<br>index=%{x}<br>value=%{y}<extra></extra>",
         "legendgroup": "Naive",
         "line": {
          "color": "#00cc96",
          "dash": "solid"
         },
         "marker": {
          "symbol": "circle"
         },
         "mode": "lines",
         "name": "Naive",
         "orientation": "v",
         "showlegend": true,
         "type": "scatter",
         "x": [
          "2013-02-28T00:00:00",
          "2013-03-31T00:00:00",
          "2013-04-30T00:00:00",
          "2013-05-31T00:00:00",
          "2013-06-30T00:00:00",
          "2013-07-31T00:00:00",
          "2013-08-31T00:00:00",
          "2013-09-30T00:00:00",
          "2013-10-31T00:00:00",
          "2013-11-30T00:00:00",
          "2013-12-31T00:00:00",
          "2014-01-31T00:00:00",
          "2014-02-28T00:00:00",
          "2014-03-31T00:00:00",
          "2014-04-30T00:00:00",
          "2014-05-31T00:00:00",
          "2014-06-30T00:00:00",
          "2014-07-31T00:00:00",
          "2014-08-31T00:00:00",
          "2014-09-30T00:00:00",
          "2014-10-31T00:00:00",
          "2014-11-30T00:00:00",
          "2014-12-31T00:00:00",
          "2015-01-31T00:00:00",
          "2015-02-28T00:00:00",
          "2015-03-31T00:00:00",
          "2015-04-30T00:00:00",
          "2015-05-31T00:00:00",
          "2015-06-30T00:00:00",
          "2015-07-31T00:00:00",
          "2015-08-31T00:00:00",
          "2015-09-30T00:00:00",
          "2015-10-31T00:00:00",
          "2015-11-30T00:00:00",
          "2015-12-31T00:00:00",
          "2016-01-31T00:00:00",
          "2016-02-29T00:00:00",
          "2016-03-31T00:00:00",
          "2016-04-30T00:00:00",
          "2016-05-31T00:00:00",
          "2016-06-30T00:00:00",
          "2016-07-31T00:00:00",
          "2016-08-31T00:00:00",
          "2016-09-30T00:00:00",
          "2016-10-31T00:00:00",
          "2016-11-30T00:00:00",
          "2016-12-31T00:00:00",
          "2017-01-31T00:00:00",
          "2017-02-28T00:00:00",
          "2017-03-31T00:00:00",
          "2017-04-30T00:00:00",
          "2017-05-31T00:00:00",
          "2017-06-30T00:00:00",
          "2017-07-31T00:00:00",
          "2017-08-31T00:00:00",
          "2017-09-30T00:00:00",
          "2017-10-31T00:00:00",
          "2017-11-30T00:00:00",
          "2017-12-31T00:00:00",
          "2018-01-31T00:00:00",
          "2018-02-28T00:00:00",
          "2018-03-31T00:00:00",
          "2018-04-30T00:00:00",
          "2018-05-31T00:00:00",
          "2018-06-30T00:00:00",
          "2018-07-31T00:00:00",
          "2018-08-31T00:00:00",
          "2018-09-30T00:00:00",
          "2018-10-31T00:00:00",
          "2018-11-30T00:00:00",
          "2018-12-31T00:00:00",
          "2019-01-31T00:00:00",
          "2019-02-28T00:00:00",
          "2019-03-31T00:00:00",
          "2019-04-30T00:00:00",
          "2019-05-31T00:00:00",
          "2019-06-30T00:00:00",
          "2019-07-31T00:00:00",
          "2019-08-31T00:00:00",
          "2019-09-30T00:00:00",
          "2019-10-31T00:00:00",
          "2019-11-30T00:00:00",
          "2019-12-31T00:00:00",
          "2020-01-31T00:00:00",
          "2020-02-29T00:00:00",
          "2020-03-31T00:00:00",
          "2020-04-30T00:00:00",
          "2020-05-31T00:00:00",
          "2020-06-30T00:00:00",
          "2020-07-31T00:00:00",
          "2020-08-31T00:00:00",
          "2020-09-30T00:00:00",
          "2020-10-31T00:00:00",
          "2020-11-30T00:00:00",
          "2020-12-31T00:00:00",
          "2021-01-31T00:00:00",
          "2021-02-28T00:00:00",
          "2021-03-31T00:00:00",
          "2021-04-30T00:00:00",
          "2021-05-31T00:00:00",
          "2021-06-30T00:00:00",
          "2021-07-31T00:00:00",
          "2021-08-31T00:00:00",
          "2021-09-30T00:00:00",
          "2021-10-31T00:00:00",
          "2021-11-30T00:00:00",
          "2021-12-31T00:00:00",
          "2022-01-31T00:00:00",
          "2022-02-28T00:00:00",
          "2022-03-31T00:00:00",
          "2022-04-30T00:00:00",
          "2022-05-31T00:00:00",
          "2022-06-30T00:00:00",
          "2022-07-31T00:00:00",
          "2022-08-31T00:00:00",
          "2022-09-30T00:00:00",
          "2022-10-31T00:00:00",
          "2022-11-30T00:00:00",
          "2022-12-31T00:00:00"
         ],
         "xaxis": "x",
         "y": [
          0.01887659139179831,
          0.06999467434402806,
          0.10466058541463334,
          0.14488192845577447,
          0.13673958394502406,
          0.18533338767770735,
          0.15917246000227292,
          0.17248875320410598,
          0.20178625681235776,
          0.2521170781014498,
          0.26508723515092,
          0.2092293370821753,
          0.25382815286393406,
          0.27998854224670544,
          0.2923542083662039,
          0.3002836741024899,
          0.320377556681348,
          0.2966499555476304,
          0.35057028623327874,
          0.33951276605469516,
          0.351523663496605,
          0.38208887693008936,
          0.3658753933454496,
          0.3253216097259123,
          0.38837727975967185,
          0.3687547818399183,
          0.38073243915626903,
          0.3889612810535414,
          0.369462340608201,
          0.3603719984237925,
          0.31291286981911837,
          0.2966366752634861,
          0.3649495996480916,
          0.3713230013099059,
          0.37618516918678363,
          0.3435035049043572,
          0.32450611952247466,
          0.4149707927466454,
          0.4542514717460382,
          0.48502575678253673,
          0.5035132862081534,
          0.5468292084087923,
          0.5578409954916079,
          0.5564241065945179,
          0.5418472824258719,
          0.5950916652135056,
          0.6327878858025086,
          0.6289176891271827,
          0.684230754862199,
          0.6955428114117703,
          0.6948577307220078,
          0.6929340027443569,
          0.708227719756763,
          0.7200919570061357,
          0.7107424525541616,
          0.7355285261870526,
          0.7357639216478924,
          0.7661109041513978,
          0.7789099809471861,
          0.8145018331412275,
          0.7527258129552908,
          0.7325798550268583,
          0.7544077962037179,
          0.7797275400635968,
          0.8063297837337264,
          0.8629324625384492,
          0.9107222820542844,
          0.9305668142528652,
          0.8813398472581624,
          0.8993804836564415,
          0.8031210001081841,
          0.88659382093992,
          0.9167627329408635,
          0.9436679169560288,
          0.960834340047432,
          0.9100214171348702,
          0.9726756699656047,
          0.9731795116846258,
          0.9333103094605986,
          0.9563081808547841,
          1.001769818889672,
          1.0364708629473551,
          1.1036539306066209,
          1.0806227065037275,
          0.9886523243030507,
          0.8860805728479111,
          1.0864499958844327,
          1.1056679792261963,
          1.1086332589969181,
          1.1753598284304465,
          1.2383214764825554,
          1.195713226756344,
          1.1691574129118742,
          1.2955355847427472,
          1.3228187549530814,
          1.3422000845831243,
          1.3639707323858503,
          1.4239742601402152,
          1.4449497490384948,
          1.4857645060326103,
          1.5230640833633775,
          1.5397043037803586,
          1.5598804823075976,
          1.557125893966428,
          1.650304806703419,
          1.6400376241352501,
          1.681716017950218,
          1.6700310717129014,
          1.6607043651557547,
          1.702886821141668,
          1.6697157167723926,
          1.696709205672544,
          1.6093622195652328,
          1.6998594448753486,
          1.661033648070493,
          1.5834671146693031,
          1.7036544452744748,
          1.7785939815936025,
          1.7279930916648236
         ],
         "yaxis": "y"
        }
       ],
       "layout": {
        "legend": {
         "title": {
          "text": "Portfolios"
         },
         "tracegroupgap": 0
        },
        "margin": {
         "t": 60
        },
        "template": {
         "data": {
          "bar": [
           {
            "error_x": {
             "color": "#2a3f5f"
            },
            "error_y": {
             "color": "#2a3f5f"
            },
            "marker": {
             "line": {
              "color": "#E5ECF6",
              "width": 0.5
             },
             "pattern": {
              "fillmode": "overlay",
              "size": 10,
              "solidity": 0.2
             }
            },
            "type": "bar"
           }
          ],
          "barpolar": [
           {
            "marker": {
             "line": {
              "color": "#E5ECF6",
              "width": 0.5
             },
             "pattern": {
              "fillmode": "overlay",
              "size": 10,
              "solidity": 0.2
             }
            },
            "type": "barpolar"
           }
          ],
          "carpet": [
           {
            "aaxis": {
             "endlinecolor": "#2a3f5f",
             "gridcolor": "white",
             "linecolor": "white",
             "minorgridcolor": "white",
             "startlinecolor": "#2a3f5f"
            },
            "baxis": {
             "endlinecolor": "#2a3f5f",
             "gridcolor": "white",
             "linecolor": "white",
             "minorgridcolor": "white",
             "startlinecolor": "#2a3f5f"
            },
            "type": "carpet"
           }
          ],
          "choropleth": [
           {
            "colorbar": {
             "outlinewidth": 0,
             "ticks": ""
            },
            "type": "choropleth"
           }
          ],
          "contour": [
           {
            "colorbar": {
             "outlinewidth": 0,
             "ticks": ""
            },
            "colorscale": [
             [
              0,
              "#0d0887"
             ],
             [
              0.1111111111111111,
              "#46039f"
             ],
             [
              0.2222222222222222,
              "#7201a8"
             ],
             [
              0.3333333333333333,
              "#9c179e"
             ],
             [
              0.4444444444444444,
              "#bd3786"
             ],
             [
              0.5555555555555556,
              "#d8576b"
             ],
             [
              0.6666666666666666,
              "#ed7953"
             ],
             [
              0.7777777777777778,
              "#fb9f3a"
             ],
             [
              0.8888888888888888,
              "#fdca26"
             ],
             [
              1,
              "#f0f921"
             ]
            ],
            "type": "contour"
           }
          ],
          "contourcarpet": [
           {
            "colorbar": {
             "outlinewidth": 0,
             "ticks": ""
            },
            "type": "contourcarpet"
           }
          ],
          "heatmap": [
           {
            "colorbar": {
             "outlinewidth": 0,
             "ticks": ""
            },
            "colorscale": [
             [
              0,
              "#0d0887"
             ],
             [
              0.1111111111111111,
              "#46039f"
             ],
             [
              0.2222222222222222,
              "#7201a8"
             ],
             [
              0.3333333333333333,
              "#9c179e"
             ],
             [
              0.4444444444444444,
              "#bd3786"
             ],
             [
              0.5555555555555556,
              "#d8576b"
             ],
             [
              0.6666666666666666,
              "#ed7953"
             ],
             [
              0.7777777777777778,
              "#fb9f3a"
             ],
             [
              0.8888888888888888,
              "#fdca26"
             ],
             [
              1,
              "#f0f921"
             ]
            ],
            "type": "heatmap"
           }
          ],
          "heatmapgl": [
           {
            "colorbar": {
             "outlinewidth": 0,
             "ticks": ""
            },
            "colorscale": [
             [
              0,
              "#0d0887"
             ],
             [
              0.1111111111111111,
              "#46039f"
             ],
             [
              0.2222222222222222,
              "#7201a8"
             ],
             [
              0.3333333333333333,
              "#9c179e"
             ],
             [
              0.4444444444444444,
              "#bd3786"
             ],
             [
              0.5555555555555556,
              "#d8576b"
             ],
             [
              0.6666666666666666,
              "#ed7953"
             ],
             [
              0.7777777777777778,
              "#fb9f3a"
             ],
             [
              0.8888888888888888,
              "#fdca26"
             ],
             [
              1,
              "#f0f921"
             ]
            ],
            "type": "heatmapgl"
           }
          ],
          "histogram": [
           {
            "marker": {
             "pattern": {
              "fillmode": "overlay",
              "size": 10,
              "solidity": 0.2
             }
            },
            "type": "histogram"
           }
          ],
          "histogram2d": [
           {
            "colorbar": {
             "outlinewidth": 0,
             "ticks": ""
            },
            "colorscale": [
             [
              0,
              "#0d0887"
             ],
             [
              0.1111111111111111,
              "#46039f"
             ],
             [
              0.2222222222222222,
              "#7201a8"
             ],
             [
              0.3333333333333333,
              "#9c179e"
             ],
             [
              0.4444444444444444,
              "#bd3786"
             ],
             [
              0.5555555555555556,
              "#d8576b"
             ],
             [
              0.6666666666666666,
              "#ed7953"
             ],
             [
              0.7777777777777778,
              "#fb9f3a"
             ],
             [
              0.8888888888888888,
              "#fdca26"
             ],
             [
              1,
              "#f0f921"
             ]
            ],
            "type": "histogram2d"
           }
          ],
          "histogram2dcontour": [
           {
            "colorbar": {
             "outlinewidth": 0,
             "ticks": ""
            },
            "colorscale": [
             [
              0,
              "#0d0887"
             ],
             [
              0.1111111111111111,
              "#46039f"
             ],
             [
              0.2222222222222222,
              "#7201a8"
             ],
             [
              0.3333333333333333,
              "#9c179e"
             ],
             [
              0.4444444444444444,
              "#bd3786"
             ],
             [
              0.5555555555555556,
              "#d8576b"
             ],
             [
              0.6666666666666666,
              "#ed7953"
             ],
             [
              0.7777777777777778,
              "#fb9f3a"
             ],
             [
              0.8888888888888888,
              "#fdca26"
             ],
             [
              1,
              "#f0f921"
             ]
            ],
            "type": "histogram2dcontour"
           }
          ],
          "mesh3d": [
           {
            "colorbar": {
             "outlinewidth": 0,
             "ticks": ""
            },
            "type": "mesh3d"
           }
          ],
          "parcoords": [
           {
            "line": {
             "colorbar": {
              "outlinewidth": 0,
              "ticks": ""
             }
            },
            "type": "parcoords"
           }
          ],
          "pie": [
           {
            "automargin": true,
            "type": "pie"
           }
          ],
          "scatter": [
           {
            "fillpattern": {
             "fillmode": "overlay",
             "size": 10,
             "solidity": 0.2
            },
            "type": "scatter"
           }
          ],
          "scatter3d": [
           {
            "line": {
             "colorbar": {
              "outlinewidth": 0,
              "ticks": ""
             }
            },
            "marker": {
             "colorbar": {
              "outlinewidth": 0,
              "ticks": ""
             }
            },
            "type": "scatter3d"
           }
          ],
          "scattercarpet": [
           {
            "marker": {
             "colorbar": {
              "outlinewidth": 0,
              "ticks": ""
             }
            },
            "type": "scattercarpet"
           }
          ],
          "scattergeo": [
           {
            "marker": {
             "colorbar": {
              "outlinewidth": 0,
              "ticks": ""
             }
            },
            "type": "scattergeo"
           }
          ],
          "scattergl": [
           {
            "marker": {
             "colorbar": {
              "outlinewidth": 0,
              "ticks": ""
             }
            },
            "type": "scattergl"
           }
          ],
          "scattermapbox": [
           {
            "marker": {
             "colorbar": {
              "outlinewidth": 0,
              "ticks": ""
             }
            },
            "type": "scattermapbox"
           }
          ],
          "scatterpolar": [
           {
            "marker": {
             "colorbar": {
              "outlinewidth": 0,
              "ticks": ""
             }
            },
            "type": "scatterpolar"
           }
          ],
          "scatterpolargl": [
           {
            "marker": {
             "colorbar": {
              "outlinewidth": 0,
              "ticks": ""
             }
            },
            "type": "scatterpolargl"
           }
          ],
          "scatterternary": [
           {
            "marker": {
             "colorbar": {
              "outlinewidth": 0,
              "ticks": ""
             }
            },
            "type": "scatterternary"
           }
          ],
          "surface": [
           {
            "colorbar": {
             "outlinewidth": 0,
             "ticks": ""
            },
            "colorscale": [
             [
              0,
              "#0d0887"
             ],
             [
              0.1111111111111111,
              "#46039f"
             ],
             [
              0.2222222222222222,
              "#7201a8"
             ],
             [
              0.3333333333333333,
              "#9c179e"
             ],
             [
              0.4444444444444444,
              "#bd3786"
             ],
             [
              0.5555555555555556,
              "#d8576b"
             ],
             [
              0.6666666666666666,
              "#ed7953"
             ],
             [
              0.7777777777777778,
              "#fb9f3a"
             ],
             [
              0.8888888888888888,
              "#fdca26"
             ],
             [
              1,
              "#f0f921"
             ]
            ],
            "type": "surface"
           }
          ],
          "table": [
           {
            "cells": {
             "fill": {
              "color": "#EBF0F8"
             },
             "line": {
              "color": "white"
             }
            },
            "header": {
             "fill": {
              "color": "#C8D4E3"
             },
             "line": {
              "color": "white"
             }
            },
            "type": "table"
           }
          ]
         },
         "layout": {
          "annotationdefaults": {
           "arrowcolor": "#2a3f5f",
           "arrowhead": 0,
           "arrowwidth": 1
          },
          "autotypenumbers": "strict",
          "coloraxis": {
           "colorbar": {
            "outlinewidth": 0,
            "ticks": ""
           }
          },
          "colorscale": {
           "diverging": [
            [
             0,
             "#8e0152"
            ],
            [
             0.1,
             "#c51b7d"
            ],
            [
             0.2,
             "#de77ae"
            ],
            [
             0.3,
             "#f1b6da"
            ],
            [
             0.4,
             "#fde0ef"
            ],
            [
             0.5,
             "#f7f7f7"
            ],
            [
             0.6,
             "#e6f5d0"
            ],
            [
             0.7,
             "#b8e186"
            ],
            [
             0.8,
             "#7fbc41"
            ],
            [
             0.9,
             "#4d9221"
            ],
            [
             1,
             "#276419"
            ]
           ],
           "sequential": [
            [
             0,
             "#0d0887"
            ],
            [
             0.1111111111111111,
             "#46039f"
            ],
            [
             0.2222222222222222,
             "#7201a8"
            ],
            [
             0.3333333333333333,
             "#9c179e"
            ],
            [
             0.4444444444444444,
             "#bd3786"
            ],
            [
             0.5555555555555556,
             "#d8576b"
            ],
            [
             0.6666666666666666,
             "#ed7953"
            ],
            [
             0.7777777777777778,
             "#fb9f3a"
            ],
            [
             0.8888888888888888,
             "#fdca26"
            ],
            [
             1,
             "#f0f921"
            ]
           ],
           "sequentialminus": [
            [
             0,
             "#0d0887"
            ],
            [
             0.1111111111111111,
             "#46039f"
            ],
            [
             0.2222222222222222,
             "#7201a8"
            ],
            [
             0.3333333333333333,
             "#9c179e"
            ],
            [
             0.4444444444444444,
             "#bd3786"
            ],
            [
             0.5555555555555556,
             "#d8576b"
            ],
            [
             0.6666666666666666,
             "#ed7953"
            ],
            [
             0.7777777777777778,
             "#fb9f3a"
            ],
            [
             0.8888888888888888,
             "#fdca26"
            ],
            [
             1,
             "#f0f921"
            ]
           ]
          },
          "colorway": [
           "#636efa",
           "#EF553B",
           "#00cc96",
           "#ab63fa",
           "#FFA15A",
           "#19d3f3",
           "#FF6692",
           "#B6E880",
           "#FF97FF",
           "#FECB52"
          ],
          "font": {
           "color": "#2a3f5f"
          },
          "geo": {
           "bgcolor": "white",
           "lakecolor": "white",
           "landcolor": "#E5ECF6",
           "showlakes": true,
           "showland": true,
           "subunitcolor": "white"
          },
          "hoverlabel": {
           "align": "left"
          },
          "hovermode": "closest",
          "mapbox": {
           "style": "light"
          },
          "paper_bgcolor": "white",
          "plot_bgcolor": "#E5ECF6",
          "polar": {
           "angularaxis": {
            "gridcolor": "white",
            "linecolor": "white",
            "ticks": ""
           },
           "bgcolor": "#E5ECF6",
           "radialaxis": {
            "gridcolor": "white",
            "linecolor": "white",
            "ticks": ""
           }
          },
          "scene": {
           "xaxis": {
            "backgroundcolor": "#E5ECF6",
            "gridcolor": "white",
            "gridwidth": 2,
            "linecolor": "white",
            "showbackground": true,
            "ticks": "",
            "zerolinecolor": "white"
           },
           "yaxis": {
            "backgroundcolor": "#E5ECF6",
            "gridcolor": "white",
            "gridwidth": 2,
            "linecolor": "white",
            "showbackground": true,
            "ticks": "",
            "zerolinecolor": "white"
           },
           "zaxis": {
            "backgroundcolor": "#E5ECF6",
            "gridcolor": "white",
            "gridwidth": 2,
            "linecolor": "white",
            "showbackground": true,
            "ticks": "",
            "zerolinecolor": "white"
           }
          },
          "shapedefaults": {
           "line": {
            "color": "#2a3f5f"
           }
          },
          "ternary": {
           "aaxis": {
            "gridcolor": "white",
            "linecolor": "white",
            "ticks": ""
           },
           "baxis": {
            "gridcolor": "white",
            "linecolor": "white",
            "ticks": ""
           },
           "bgcolor": "#E5ECF6",
           "caxis": {
            "gridcolor": "white",
            "linecolor": "white",
            "ticks": ""
           }
          },
          "title": {
           "x": 0.05
          },
          "xaxis": {
           "automargin": true,
           "gridcolor": "white",
           "linecolor": "white",
           "ticks": "",
           "title": {
            "standoff": 15
           },
           "zerolinecolor": "white",
           "zerolinewidth": 2
          },
          "yaxis": {
           "automargin": true,
           "gridcolor": "white",
           "linecolor": "white",
           "ticks": "",
           "title": {
            "standoff": 15
           },
           "zerolinecolor": "white",
           "zerolinewidth": 2
          }
         }
        },
        "title": {
         "text": "Cumulative Returns (non-compounded)"
        },
        "xaxis": {
         "anchor": "y",
         "domain": [
          0,
          1
         ],
         "title": {
          "text": "Observations"
         }
        },
        "yaxis": {
         "anchor": "x",
         "domain": [
          0,
          1
         ],
         "tickformat": ".2%",
         "title": {
          "text": "Cumulative Returns"
         }
        }
       }
      }
     },
     "metadata": {},
     "output_type": "display_data"
    }
   ],
   "source": [
    "fig = population.plot_cumulative_returns()\n",
    "# show(fig) is only used for the documentation sticker.\n",
    "show(fig)"
   ]
  },
  {
   "cell_type": "code",
   "execution_count": 12,
   "metadata": {},
   "outputs": [
    {
     "data": {
      "text/html": [
       "<div>\n",
       "<style scoped>\n",
       "    .dataframe tbody tr th:only-of-type {\n",
       "        vertical-align: middle;\n",
       "    }\n",
       "\n",
       "    .dataframe tbody tr th {\n",
       "        vertical-align: top;\n",
       "    }\n",
       "\n",
       "    .dataframe thead th {\n",
       "        text-align: right;\n",
       "    }\n",
       "</style>\n",
       "<table border=\"1\" class=\"dataframe\">\n",
       "  <thead>\n",
       "    <tr style=\"text-align: right;\">\n",
       "      <th></th>\n",
       "      <th>Max Sharpe</th>\n",
       "      <th>Inverse Vol</th>\n",
       "    </tr>\n",
       "  </thead>\n",
       "  <tbody>\n",
       "    <tr>\n",
       "      <th>Mean</th>\n",
       "      <td>0.076%</td>\n",
       "      <td>0.064%</td>\n",
       "    </tr>\n",
       "    <tr>\n",
       "      <th>Annualized Mean</th>\n",
       "      <td>19.03%</td>\n",
       "      <td>16.05%</td>\n",
       "    </tr>\n",
       "    <tr>\n",
       "      <th>Variance</th>\n",
       "      <td>0.012%</td>\n",
       "      <td>0.011%</td>\n",
       "    </tr>\n",
       "    <tr>\n",
       "      <th>Annualized Variance</th>\n",
       "      <td>3.14%</td>\n",
       "      <td>2.68%</td>\n",
       "    </tr>\n",
       "    <tr>\n",
       "      <th>Semi-Variance</th>\n",
       "      <td>0.0063%</td>\n",
       "      <td>0.0055%</td>\n",
       "    </tr>\n",
       "    <tr>\n",
       "      <th>Annualized Semi-Variance</th>\n",
       "      <td>1.58%</td>\n",
       "      <td>1.40%</td>\n",
       "    </tr>\n",
       "    <tr>\n",
       "      <th>Standard Deviation</th>\n",
       "      <td>1.12%</td>\n",
       "      <td>1.03%</td>\n",
       "    </tr>\n",
       "    <tr>\n",
       "      <th>Annualized Standard Deviation</th>\n",
       "      <td>17.73%</td>\n",
       "      <td>16.36%</td>\n",
       "    </tr>\n",
       "    <tr>\n",
       "      <th>Semi-Deviation</th>\n",
       "      <td>0.79%</td>\n",
       "      <td>0.74%</td>\n",
       "    </tr>\n",
       "    <tr>\n",
       "      <th>Annualized Semi-Deviation</th>\n",
       "      <td>12.57%</td>\n",
       "      <td>11.82%</td>\n",
       "    </tr>\n",
       "    <tr>\n",
       "      <th>Mean Absolute Deviation</th>\n",
       "      <td>0.73%</td>\n",
       "      <td>0.66%</td>\n",
       "    </tr>\n",
       "    <tr>\n",
       "      <th>CVaR at 95%</th>\n",
       "      <td>2.55%</td>\n",
       "      <td>2.42%</td>\n",
       "    </tr>\n",
       "    <tr>\n",
       "      <th>EVaR at 95%</th>\n",
       "      <td>5.24%</td>\n",
       "      <td>5.36%</td>\n",
       "    </tr>\n",
       "    <tr>\n",
       "      <th>Worst Realization</th>\n",
       "      <td>10.30%</td>\n",
       "      <td>10.49%</td>\n",
       "    </tr>\n",
       "    <tr>\n",
       "      <th>CDaR at 95%</th>\n",
       "      <td>13.71%</td>\n",
       "      <td>12.55%</td>\n",
       "    </tr>\n",
       "    <tr>\n",
       "      <th>MAX Drawdown</th>\n",
       "      <td>32.18%</td>\n",
       "      <td>34.81%</td>\n",
       "    </tr>\n",
       "    <tr>\n",
       "      <th>Average Drawdown</th>\n",
       "      <td>2.82%</td>\n",
       "      <td>2.36%</td>\n",
       "    </tr>\n",
       "    <tr>\n",
       "      <th>EDaR at 95%</th>\n",
       "      <td>19.18%</td>\n",
       "      <td>20.31%</td>\n",
       "    </tr>\n",
       "    <tr>\n",
       "      <th>First Lower Partial Moment</th>\n",
       "      <td>0.36%</td>\n",
       "      <td>0.33%</td>\n",
       "    </tr>\n",
       "    <tr>\n",
       "      <th>Ulcer Index</th>\n",
       "      <td>0.046</td>\n",
       "      <td>0.041</td>\n",
       "    </tr>\n",
       "    <tr>\n",
       "      <th>Gini Mean Difference</th>\n",
       "      <td>1.09%</td>\n",
       "      <td>1.00%</td>\n",
       "    </tr>\n",
       "    <tr>\n",
       "      <th>Value at Risk at 95%</th>\n",
       "      <td>1.55%</td>\n",
       "      <td>1.48%</td>\n",
       "    </tr>\n",
       "    <tr>\n",
       "      <th>Drawdown at Risk at 95%</th>\n",
       "      <td>10.21%</td>\n",
       "      <td>9.01%</td>\n",
       "    </tr>\n",
       "    <tr>\n",
       "      <th>Entropic Risk Measure at 95%</th>\n",
       "      <td>3.00</td>\n",
       "      <td>3.00</td>\n",
       "    </tr>\n",
       "    <tr>\n",
       "      <th>Fourth Central Moment</th>\n",
       "      <td>0.000032%</td>\n",
       "      <td>0.000024%</td>\n",
       "    </tr>\n",
       "    <tr>\n",
       "      <th>Fourth Lower Partial Moment</th>\n",
       "      <td>0.000012%</td>\n",
       "      <td>0.000012%</td>\n",
       "    </tr>\n",
       "    <tr>\n",
       "      <th>Skew</th>\n",
       "      <td>32.14%</td>\n",
       "      <td>-15.73%</td>\n",
       "    </tr>\n",
       "    <tr>\n",
       "      <th>Kurtosis</th>\n",
       "      <td>2027.46%</td>\n",
       "      <td>2120.21%</td>\n",
       "    </tr>\n",
       "    <tr>\n",
       "      <th>Sharpe Ratio</th>\n",
       "      <td>0.068</td>\n",
       "      <td>0.062</td>\n",
       "    </tr>\n",
       "    <tr>\n",
       "      <th>Annualized Sharpe Ratio</th>\n",
       "      <td>1.07</td>\n",
       "      <td>0.98</td>\n",
       "    </tr>\n",
       "    <tr>\n",
       "      <th>Sortino Ratio</th>\n",
       "      <td>0.095</td>\n",
       "      <td>0.086</td>\n",
       "    </tr>\n",
       "    <tr>\n",
       "      <th>Annualized Sortino Ratio</th>\n",
       "      <td>1.51</td>\n",
       "      <td>1.36</td>\n",
       "    </tr>\n",
       "    <tr>\n",
       "      <th>Mean Absolute Deviation Ratio</th>\n",
       "      <td>0.10</td>\n",
       "      <td>0.097</td>\n",
       "    </tr>\n",
       "    <tr>\n",
       "      <th>First Lower Partial Moment Ratio</th>\n",
       "      <td>0.21</td>\n",
       "      <td>0.19</td>\n",
       "    </tr>\n",
       "    <tr>\n",
       "      <th>Value at Risk Ratio at 95%</th>\n",
       "      <td>0.049</td>\n",
       "      <td>0.043</td>\n",
       "    </tr>\n",
       "    <tr>\n",
       "      <th>CVaR Ratio at 95%</th>\n",
       "      <td>0.030</td>\n",
       "      <td>0.026</td>\n",
       "    </tr>\n",
       "    <tr>\n",
       "      <th>Entropic Risk Measure Ratio at 95%</th>\n",
       "      <td>0.00025</td>\n",
       "      <td>0.00021</td>\n",
       "    </tr>\n",
       "    <tr>\n",
       "      <th>EVaR Ratio at 95%</th>\n",
       "      <td>0.014</td>\n",
       "      <td>0.012</td>\n",
       "    </tr>\n",
       "    <tr>\n",
       "      <th>Worst Realization Ratio</th>\n",
       "      <td>0.0073</td>\n",
       "      <td>0.0061</td>\n",
       "    </tr>\n",
       "    <tr>\n",
       "      <th>Drawdown at Risk Ratio at 95%</th>\n",
       "      <td>0.0074</td>\n",
       "      <td>0.0071</td>\n",
       "    </tr>\n",
       "    <tr>\n",
       "      <th>CDaR Ratio at 95%</th>\n",
       "      <td>0.0055</td>\n",
       "      <td>0.0051</td>\n",
       "    </tr>\n",
       "    <tr>\n",
       "      <th>Calmar Ratio</th>\n",
       "      <td>0.0023</td>\n",
       "      <td>0.0018</td>\n",
       "    </tr>\n",
       "    <tr>\n",
       "      <th>Average Drawdown Ratio</th>\n",
       "      <td>0.027</td>\n",
       "      <td>0.027</td>\n",
       "    </tr>\n",
       "    <tr>\n",
       "      <th>EDaR Ratio at 95%</th>\n",
       "      <td>0.0039</td>\n",
       "      <td>0.0031</td>\n",
       "    </tr>\n",
       "    <tr>\n",
       "      <th>Ulcer Index Ratio</th>\n",
       "      <td>0.016</td>\n",
       "      <td>0.016</td>\n",
       "    </tr>\n",
       "    <tr>\n",
       "      <th>Gini Mean Difference Ratio</th>\n",
       "      <td>0.069</td>\n",
       "      <td>0.064</td>\n",
       "    </tr>\n",
       "    <tr>\n",
       "      <th>Effective Number of Assets</th>\n",
       "      <td>9.444498109029118</td>\n",
       "      <td>18.443063458952167</td>\n",
       "    </tr>\n",
       "    <tr>\n",
       "      <th>Assets Number</th>\n",
       "      <td>20</td>\n",
       "      <td>20</td>\n",
       "    </tr>\n",
       "  </tbody>\n",
       "</table>\n",
       "</div>"
      ],
      "text/plain": [
       "                                           Max Sharpe         Inverse Vol\n",
       "Mean                                           0.076%              0.064%\n",
       "Annualized Mean                                19.03%              16.05%\n",
       "Variance                                       0.012%              0.011%\n",
       "Annualized Variance                             3.14%               2.68%\n",
       "Semi-Variance                                 0.0063%             0.0055%\n",
       "Annualized Semi-Variance                        1.58%               1.40%\n",
       "Standard Deviation                              1.12%               1.03%\n",
       "Annualized Standard Deviation                  17.73%              16.36%\n",
       "Semi-Deviation                                  0.79%               0.74%\n",
       "Annualized Semi-Deviation                      12.57%              11.82%\n",
       "Mean Absolute Deviation                         0.73%               0.66%\n",
       "CVaR at 95%                                     2.55%               2.42%\n",
       "EVaR at 95%                                     5.24%               5.36%\n",
       "Worst Realization                              10.30%              10.49%\n",
       "CDaR at 95%                                    13.71%              12.55%\n",
       "MAX Drawdown                                   32.18%              34.81%\n",
       "Average Drawdown                                2.82%               2.36%\n",
       "EDaR at 95%                                    19.18%              20.31%\n",
       "First Lower Partial Moment                      0.36%               0.33%\n",
       "Ulcer Index                                     0.046               0.041\n",
       "Gini Mean Difference                            1.09%               1.00%\n",
       "Value at Risk at 95%                            1.55%               1.48%\n",
       "Drawdown at Risk at 95%                        10.21%               9.01%\n",
       "Entropic Risk Measure at 95%                     3.00                3.00\n",
       "Fourth Central Moment                       0.000032%           0.000024%\n",
       "Fourth Lower Partial Moment                 0.000012%           0.000012%\n",
       "Skew                                           32.14%             -15.73%\n",
       "Kurtosis                                     2027.46%            2120.21%\n",
       "Sharpe Ratio                                    0.068               0.062\n",
       "Annualized Sharpe Ratio                          1.07                0.98\n",
       "Sortino Ratio                                   0.095               0.086\n",
       "Annualized Sortino Ratio                         1.51                1.36\n",
       "Mean Absolute Deviation Ratio                    0.10               0.097\n",
       "First Lower Partial Moment Ratio                 0.21                0.19\n",
       "Value at Risk Ratio at 95%                      0.049               0.043\n",
       "CVaR Ratio at 95%                               0.030               0.026\n",
       "Entropic Risk Measure Ratio at 95%            0.00025             0.00021\n",
       "EVaR Ratio at 95%                               0.014               0.012\n",
       "Worst Realization Ratio                        0.0073              0.0061\n",
       "Drawdown at Risk Ratio at 95%                  0.0074              0.0071\n",
       "CDaR Ratio at 95%                              0.0055              0.0051\n",
       "Calmar Ratio                                   0.0023              0.0018\n",
       "Average Drawdown Ratio                          0.027               0.027\n",
       "EDaR Ratio at 95%                              0.0039              0.0031\n",
       "Ulcer Index Ratio                               0.016               0.016\n",
       "Gini Mean Difference Ratio                      0.069               0.064\n",
       "Effective Number of Assets          9.444498109029118  18.443063458952167\n",
       "Assets Number                                      20                  20"
      ]
     },
     "execution_count": 12,
     "metadata": {},
     "output_type": "execute_result"
    }
   ],
   "source": [
    "population.summary()"
   ]
  }
 ],
 "metadata": {
  "kernelspec": {
   "display_name": "rl",
   "language": "python",
   "name": "python3"
  },
  "language_info": {
   "codemirror_mode": {
    "name": "ipython",
    "version": 3
   },
   "file_extension": ".py",
   "mimetype": "text/x-python",
   "name": "python",
   "nbconvert_exporter": "python",
   "pygments_lexer": "ipython3",
   "version": "3.11.0"
  }
 },
 "nbformat": 4,
 "nbformat_minor": 2
}
