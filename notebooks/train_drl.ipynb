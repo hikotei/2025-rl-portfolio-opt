{
 "cells": [
  {
   "cell_type": "code",
   "execution_count": 1,
   "metadata": {},
   "outputs": [],
   "source": [
    "import pandas as pd\n",
    "from utils.portfolio_env_old import PortfolioEnv\n",
    "from utils.drl_agent import DRLAgent\n",
    "\n",
    "%load_ext autoreload\n",
    "%autoreload 2"
   ]
  },
  {
   "cell_type": "code",
   "execution_count": 2,
   "metadata": {},
   "outputs": [],
   "source": [
    "# --- Load data (replace with actual paths) ---\n",
    "returns_df = pd.read_parquet(\"../data/returns.parquet\")\n",
    "prices_df = pd.read_parquet(\"../data/prices.parquet\")\n",
    "vol_df = pd.read_parquet(\"../data/vola.parquet\")"
   ]
  },
  {
   "cell_type": "code",
   "execution_count": 3,
   "metadata": {},
   "outputs": [],
   "source": [
    "# subset data to just one year 2020 - 2021\n",
    "train_start = \"2020-01-01\"\n",
    "train_end = \"2020-06-01\"\n",
    "\n",
    "train_ret = returns_df[train_start:train_end]\n",
    "train_prices = prices_df[train_start:train_end]\n",
    "train_vol = vol_df[train_start:train_end]"
   ]
  },
  {
   "cell_type": "code",
   "execution_count": 4,
   "metadata": {},
   "outputs": [],
   "source": [
    "# --- Create environment ---\n",
    "env = PortfolioEnv(\n",
    "    returns_df=train_ret,\n",
    "    prices_df=train_prices,\n",
    "    vol_df=train_vol,\n",
    "    window_size=60,\n",
    "    transaction_cost=0,\n",
    "    initial_balance=100_000,\n",
    "    reward_scaling=1.0,\n",
    "    eta=1 / 252,\n",
    ")"
   ]
  },
  {
   "cell_type": "code",
   "execution_count": 5,
   "metadata": {},
   "outputs": [],
   "source": [
    "# = = = = = = = = \n",
    "# CHECK ENVIRONMENT\n",
    "# = = = = = = = = \n",
    "\n",
    "# from stable_baselines3.common.env_checker import check_env\n",
    "# check_env(env)\n",
    "\n",
    "# UserWarning: Your observation  has an unconventional shape (neither an image, nor a 1D vector). \n",
    "# We recommend you to flatten the observation to have only a 1D vector or use a custom policy to properly process the data.\n",
    "\n",
    "# UserWarning: We recommend you to use a symmetric and normalized Box action space (range=[-1, 1]) \n",
    "# cf. https://stable-baselines3.readthedocs.io/en/master/guide/rl_tips.html\n",
    "\n",
    "# = = = = = = = = \n",
    "# RANDOM AGENT\n",
    "# = = = = = = = = \n",
    "\n",
    "# obs, info = env.reset()\n",
    "# n_steps = 10\n",
    "# for _ in range(n_steps):\n",
    "#     action = env.action_space.sample() # random action\n",
    "#     obs, reward, terminated, truncated, info = env.step(action)\n",
    "#     print(info)\n",
    "#     if terminated:\n",
    "#         obs, info = env.reset()"
   ]
  },
  {
   "cell_type": "code",
   "execution_count": 6,
   "metadata": {},
   "outputs": [
    {
     "data": {
      "application/vnd.jupyter.widget-view+json": {
       "model_id": "364c3c3c224d486d8f6b6abcdb39e1f2",
       "version_major": 2,
       "version_minor": 0
      },
      "text/plain": [
       "Output()"
      ]
     },
     "metadata": {},
     "output_type": "display_data"
    },
    {
     "data": {
      "text/html": [
       "<pre style=\"white-space:pre;overflow-x:auto;line-height:normal;font-family:Menlo,'DejaVu Sans Mono',consolas,'Courier New',monospace\"></pre>\n"
      ],
      "text/plain": []
     },
     "metadata": {},
     "output_type": "display_data"
    },
    {
     "name": "stdout",
     "output_type": "stream",
     "text": [
      "\n",
      "Training Summary:\n",
      "Final Portfolio Value (First Env): $151,345.59\n",
      "Average Final Portfolio Value (All Envs): $140,796.27\n",
      "Std Final Portfolio Value (All Envs): $6,408.72\n",
      "\n",
      "Performance Metrics (First Env):\n",
      "Annual return: 1.2417\n",
      "Cumulative returns: 0.1477\n",
      "Annual volatility: 0.3496\n",
      "Sharpe ratio: 2.4845\n",
      "Calmar ratio: 19.7218\n",
      "Stability: 0.7410\n",
      "Max drawdown: -0.0630\n",
      "Omega ratio: 1.4829\n",
      "Sortino ratio: 4.9737\n",
      "Skew: 0.2638\n",
      "Kurtosis: 0.3752\n",
      "Tail ratio: 1.3998\n",
      "Daily value at risk: -0.0279\n",
      "Portfolio turnover: 0.0177\n"
     ]
    }
   ],
   "source": [
    "agent = DRLAgent(\n",
    "    env,\n",
    "    model_name='ppo',\n",
    "    n_envs=5,\n",
    "    n_steps=756,\n",
    "    batch_size=1260,\n",
    "    n_epochs=16,\n",
    "    learning_rate=3e-4, # anneal to 1e-5\n",
    "    gamma=0.9,\n",
    "    gae_lambda=0.9,\n",
    "    # clip_range=0.25\n",
    ")\n",
    "\n",
    "agent.train(total_timesteps=100)\n",
    "agent.save(\"../models/ppo_portfolio.zip\")"
   ]
  },
  {
   "cell_type": "code",
   "execution_count": 7,
   "metadata": {},
   "outputs": [],
   "source": [
    "# subset data to just one year 2020 - 2021\n",
    "eval_start = \"2021-01-01\"\n",
    "eval_end = \"2021-06-01\"\n",
    "\n",
    "eval_ret = returns_df[eval_start:eval_end]\n",
    "eval_prices = prices_df[eval_start:eval_end]\n",
    "eval_vol = vol_df[eval_start:eval_end]"
   ]
  },
  {
   "cell_type": "code",
   "execution_count": 8,
   "metadata": {},
   "outputs": [
    {
     "name": "stdout",
     "output_type": "stream",
     "text": [
      "Evaluating DRL agent...\n",
      "\n",
      "Evaluation Summary:\n",
      "Final Portfolio Value: $106,358.29\n",
      "Average Reward: -5.9508\n",
      "\n",
      "Performance Metrics:\n",
      "Annual return: 0.4421\n",
      "Cumulative returns: 0.0629\n",
      "Annual volatility: 0.1062\n",
      "Sharpe ratio: 3.3977\n",
      "Calmar ratio: 13.3128\n",
      "Stability: 0.9040\n",
      "Max drawdown: -0.0332\n",
      "Omega ratio: 1.7275\n",
      "Sortino ratio: 4.9897\n",
      "Skew: -0.6556\n",
      "Kurtosis: 0.7617\n",
      "Tail ratio: 1.0900\n",
      "Daily value at risk: -0.0090\n",
      "Portfolio turnover: 0.0054\n",
      "Average Reward: -5.9508\n"
     ]
    }
   ],
   "source": [
    "# --- Evaluate DRL agent ---\n",
    "# Create evaluation environment\n",
    "eval_env = PortfolioEnv(\n",
    "    returns_df=eval_ret,\n",
    "    prices_df=eval_prices,\n",
    "    vol_df=eval_vol,\n",
    "    window_size=60,\n",
    "    transaction_cost=0,\n",
    "    initial_balance=100_000,\n",
    "    reward_scaling=1.0,\n",
    "    eta=1 / 252,\n",
    ")\n",
    "\n",
    "# Evaluate DRL agent\n",
    "print(\"Evaluating DRL agent...\")\n",
    "drl_metrics = agent.evaluate(eval_env, n_episodes=1)"
   ]
  }
 ],
 "metadata": {
  "kernelspec": {
   "display_name": "rl",
   "language": "python",
   "name": "python3"
  },
  "language_info": {
   "codemirror_mode": {
    "name": "ipython",
    "version": 3
   },
   "file_extension": ".py",
   "mimetype": "text/x-python",
   "name": "python",
   "nbconvert_exporter": "python",
   "pygments_lexer": "ipython3",
   "version": "3.11.0"
  }
 },
 "nbformat": 4,
 "nbformat_minor": 2
}
