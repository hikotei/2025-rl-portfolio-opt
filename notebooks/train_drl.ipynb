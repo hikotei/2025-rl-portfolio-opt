{
 "cells": [
  {
   "cell_type": "code",
   "execution_count": 1,
   "metadata": {},
   "outputs": [],
   "source": [
    "import pandas as pd\n",
    "from utils.portfolio_env import PortfolioEnv\n",
    "from utils.drl_agent import DRLAgent\n",
    "\n",
    "%load_ext autoreload\n",
    "%autoreload 2"
   ]
  },
  {
   "cell_type": "code",
   "execution_count": 2,
   "metadata": {},
   "outputs": [],
   "source": [
    "# --- Load data (replace with actual paths) ---\n",
    "returns_df = pd.read_parquet(\"../data/returns.parquet\")\n",
    "prices_df = pd.read_parquet(\"../data/prices.parquet\")\n",
    "vol_df = pd.read_parquet(\"../data/vola.parquet\")"
   ]
  },
  {
   "cell_type": "code",
   "execution_count": 3,
   "metadata": {},
   "outputs": [],
   "source": [
    "# subset data to just one year 2020 - 2021\n",
    "start_date = \"2020-01-01\"\n",
    "end_date = \"2020-06-01\"\n",
    "\n",
    "returns_df = returns_df[start_date:end_date]\n",
    "prices_df = prices_df[start_date:end_date]\n",
    "vol_df = vol_df[start_date:end_date]"
   ]
  },
  {
   "cell_type": "code",
   "execution_count": 4,
   "metadata": {},
   "outputs": [],
   "source": [
    "# --- Create environment ---\n",
    "env = PortfolioEnv(\n",
    "    returns_df=returns_df,\n",
    "    prices_df=prices_df,\n",
    "    vol_df=vol_df,\n",
    "    window_size=60,\n",
    "    transaction_cost=0,\n",
    "    initial_balance=100_000,\n",
    "    reward_scaling=1.0,\n",
    "    eta=1 / 252,\n",
    ")"
   ]
  },
  {
   "cell_type": "code",
   "execution_count": 5,
   "metadata": {},
   "outputs": [],
   "source": [
    "# = = = = = = = = \n",
    "# CHECK ENVIRONMENT\n",
    "# = = = = = = = = \n",
    "\n",
    "# from stable_baselines3.common.env_checker import check_env\n",
    "# check_env(env)\n",
    "\n",
    "# UserWarning: Your observation  has an unconventional shape (neither an image, nor a 1D vector). \n",
    "# We recommend you to flatten the observation to have only a 1D vector or use a custom policy to properly process the data.\n",
    "\n",
    "# UserWarning: We recommend you to use a symmetric and normalized Box action space (range=[-1, 1]) \n",
    "# cf. https://stable-baselines3.readthedocs.io/en/master/guide/rl_tips.html\n",
    "\n",
    "# = = = = = = = = \n",
    "# RANDOM AGENT\n",
    "# = = = = = = = = \n",
    "\n",
    "# obs, info = env.reset()\n",
    "# n_steps = 10\n",
    "# for _ in range(n_steps):\n",
    "#     action = env.action_space.sample() # random action\n",
    "#     obs, reward, terminated, truncated, info = env.step(action)\n",
    "#     print(info)\n",
    "#     if terminated:\n",
    "#         obs, info = env.reset()"
   ]
  },
  {
   "cell_type": "code",
   "execution_count": null,
   "metadata": {},
   "outputs": [
    {
     "data": {
      "application/vnd.jupyter.widget-view+json": {
       "model_id": "917ca46dae184a8baa34c2159b16f808",
       "version_major": 2,
       "version_minor": 0
      },
      "text/plain": [
       "Output()"
      ]
     },
     "metadata": {},
     "output_type": "display_data"
    },
    {
     "data": {
      "text/html": [
       "<pre style=\"white-space:pre;overflow-x:auto;line-height:normal;font-family:Menlo,'DejaVu Sans Mono',consolas,'Courier New',monospace\"></pre>\n"
      ],
      "text/plain": []
     },
     "metadata": {},
     "output_type": "display_data"
    },
    {
     "name": "stdout",
     "output_type": "stream",
     "text": [
      "\n",
      "Training Summary:\n",
      "Final Portfolio Value (First Env): $151,327.53\n",
      "Average Final Portfolio Value (All Envs): $140,786.18\n",
      "Std Final Portfolio Value (All Envs): $6,402.34\n",
      "\n",
      "Performance Metrics (First Env):\n",
      "Annual return: 1.2401\n",
      "Cumulative returns: 0.1475\n",
      "Annual volatility: 0.3495\n",
      "Sharpe ratio: 2.4825\n",
      "Calmar ratio: 19.6916\n",
      "Stability: 0.7410\n",
      "Max drawdown: -0.0630\n",
      "Omega ratio: 1.4825\n",
      "Sortino ratio: 4.9642\n",
      "Skew: 0.2636\n",
      "Kurtosis: 0.3757\n",
      "Tail ratio: 1.3941\n",
      "Daily value at risk: -0.0280\n",
      "Portfolio turnover: 0.0177\n"
     ]
    }
   ],
   "source": [
    "agent = DRLAgent(\n",
    "    env,\n",
    "    model_name='ppo',\n",
    "    n_envs=5,\n",
    "    n_steps=756,\n",
    "    batch_size=1260,\n",
    "    n_epochs=16,\n",
    "    learning_rate=3e-4, # anneal to 1e-5\n",
    "    gamma=0.9,\n",
    "    gae_lambda=0.9,\n",
    "    # clip_range=0.25\n",
    ")\n",
    "\n",
    "agent.train(total_timesteps=100)\n",
    "agent.save(\"../models/ppo_portfolio.zip\")"
   ]
  },
  {
   "cell_type": "code",
   "execution_count": 7,
   "metadata": {},
   "outputs": [],
   "source": [
    "# from stable_baselines3 import PPO\n",
    "# model = PPO(\"MlpPolicy\", env).learn(total_timesteps=100)"
   ]
  }
 ],
 "metadata": {
  "kernelspec": {
   "display_name": "rl",
   "language": "python",
   "name": "python3"
  },
  "language_info": {
   "codemirror_mode": {
    "name": "ipython",
    "version": 3
   },
   "file_extension": ".py",
   "mimetype": "text/x-python",
   "name": "python",
   "nbconvert_exporter": "python",
   "pygments_lexer": "ipython3",
   "version": "3.11.0"
  }
 },
 "nbformat": 4,
 "nbformat_minor": 2
}
