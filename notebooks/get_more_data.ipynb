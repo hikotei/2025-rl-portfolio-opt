{
 "cells": [
  {
   "cell_type": "code",
   "execution_count": 3,
   "metadata": {},
   "outputs": [],
   "source": [
    "import numpy as np\n",
    "import pandas as pd\n",
    "import yfinance as yf"
   ]
  },
  {
   "cell_type": "markdown",
   "metadata": {},
   "source": [
    "### SnP sector indices 1981 - 2002"
   ]
  },
  {
   "cell_type": "code",
   "execution_count": 32,
   "metadata": {},
   "outputs": [
    {
     "name": "stderr",
     "output_type": "stream",
     "text": [
      "[*********************100%***********************]  10 of 10 completed\n"
     ]
    }
   ],
   "source": [
    "# Sector ETF tickers representing the 11 S&P 500 sectors\n",
    "sector_tickers = [\n",
    "    \"XLF\",  # Financials\n",
    "    \"XLK\",  # Technology\n",
    "    \"XLV\",  # Health Care\n",
    "    \"XLY\",  # Consumer Discretionary\n",
    "    \"XLP\",  # Consumer Staples\n",
    "    \"XLE\",  # Energy\n",
    "    \"XLI\",  # Industrials\n",
    "    \"XLU\",  # Utilities\n",
    "    \"XLB\",  # Materials\n",
    "    # \"XLRE\",  # Real Estate\n",
    "    # \"XLC\",  # Communication Services\n",
    "]\n",
    "\n",
    "indices = [\n",
    "    \"^GSPC\",  # S&P 500\n",
    "]\n",
    "\n",
    "all_tickers = sector_tickers + indices\n",
    "\n",
    "# Date range from the paper\n",
    "start_date = \"1999-01-01\"\n",
    "end_date = \"2022-12-31\"\n",
    "\n",
    "freq = '1mo'\n",
    "# freq = '1d'\n",
    "\n",
    "# Download daily adjusted close prices for sector ETFs\n",
    "prices = yf.download(\n",
    "    all_tickers,\n",
    "    start=start_date,\n",
    "    end=end_date,\n",
    "    interval=freq,\n",
    "    auto_adjust=True,\n",
    "    progress=True,\n",
    ")[\"Close\"]\n",
    "\n",
    "# Calculate monthly returns\n",
    "returns = prices.pct_change().dropna()\n",
    "\n",
    "returns[sector_tickers].to_parquet(f'../data/snp_old/returns_{freq}.parquet')\n",
    "prices[sector_tickers].to_parquet(f'../data/snp_old/prices_{freq}.parquet')\n",
    "prices[indices].to_parquet(f'../data/snp_old/prices_sp500_{freq}.parquet')"
   ]
  },
  {
   "cell_type": "markdown",
   "metadata": {},
   "source": [
    "### country indices"
   ]
  },
  {
   "cell_type": "code",
   "execution_count": 30,
   "metadata": {},
   "outputs": [
    {
     "name": "stderr",
     "output_type": "stream",
     "text": [
      "[*********************100%***********************]  8 of 8 completed"
     ]
    },
    {
     "name": "stdout",
     "output_type": "stream",
     "text": [
      "              Canada    France   Germany     Italy     Japan  Switzerland  \\\n",
      "Date                                                                        \n",
      "2001-01-03  0.019139  0.019169  0.000000  0.045455  0.036765    -0.015190   \n",
      "2001-01-04  0.009390 -0.006270  0.000000 -0.048913 -0.028369     0.005141   \n",
      "2001-01-05 -0.018605 -0.009464  0.000000 -0.005714 -0.014598     0.000000   \n",
      "2001-01-08 -0.033175  0.000000 -0.002793  0.005747 -0.007408    -0.015345   \n",
      "2001-01-09  0.014706 -0.009554  0.002801 -0.005714 -0.022388    -0.007793   \n",
      "\n",
      "                  UK        US  \n",
      "Date                            \n",
      "2001-01-03  0.021053  0.048035  \n",
      "2001-01-04 -0.027492 -0.010763  \n",
      "2001-01-05  0.000000 -0.032644  \n",
      "2001-01-08  0.003534  0.007741  \n",
      "2001-01-09 -0.017605 -0.002640  \n"
     ]
    },
    {
     "name": "stderr",
     "output_type": "stream",
     "text": [
      "\n"
     ]
    }
   ],
   "source": [
    "# Define tickers for major country ETFs or indices\n",
    "tickers = {\n",
    "    'Canada': 'EWC',        # iShares MSCI Canada ETF\n",
    "    'France': 'EWQ',        # iShares MSCI France ETF\n",
    "    'Germany': 'EWG',       # iShares MSCI Germany ETF\n",
    "    'Italy': 'EWI',         # iShares MSCI Italy ETF\n",
    "    'Japan': 'EWJ',         # iShares MSCI Japan ETF\n",
    "    'Switzerland': 'EWL',   # iShares MSCI Switzerland ETF\n",
    "    'UK': 'EWU',            # iShares MSCI United Kingdom ETF\n",
    "    'US': 'SPY',            # SPDR S&P 500 ETF Trust\n",
    "}\n",
    "\n",
    "# Download monthly adjusted close prices\n",
    "prices = yf.download(list(tickers.values()), start='2001-01-01', end='2021-12-31', interval='1d', auto_adjust=True)['Close']\n",
    "# Rename columns to country names\n",
    "prices.columns = tickers.keys()\n",
    "\n",
    "# Check for NaN in data and print\n",
    "# print(data.isna().sum())\n",
    "# display(data[data.isna().any(axis=1)])\n",
    "# data = data.dropna()\n",
    "\n",
    "# Calculate monthly returns\n",
    "returns = prices.pct_change().dropna()\n",
    "print(returns.head())\n",
    "\n",
    "returns.to_parquet('../data/returns_intl_indices.parquet')\n",
    "prices.to_parquet('../data/prices_intl_indices.parquet')"
   ]
  },
  {
   "cell_type": "code",
   "execution_count": 34,
   "metadata": {},
   "outputs": [
    {
     "name": "stderr",
     "output_type": "stream",
     "text": [
      "[*********************100%***********************]  1 of 1 completed\n"
     ]
    }
   ],
   "source": [
    "# get MSCI world for same timeframe and save separately\n",
    "msci_world = yf.download('^990100-USD-STRD', start='2001-01-01', end='2021-12-31', interval='1d', auto_adjust=True)['Close']\n",
    "# rename to MSCI World\n",
    "msci_world.columns = ['MSCI World']\n",
    "msci_world.to_parquet('../data/prices_msci.parquet')"
   ]
  }
 ],
 "metadata": {
  "kernelspec": {
   "display_name": "rl",
   "language": "python",
   "name": "python3"
  },
  "language_info": {
   "codemirror_mode": {
    "name": "ipython",
    "version": 3
   },
   "file_extension": ".py",
   "mimetype": "text/x-python",
   "name": "python",
   "nbconvert_exporter": "python",
   "pygments_lexer": "ipython3",
   "version": "3.11.0"
  }
 },
 "nbformat": 4,
 "nbformat_minor": 2
}
